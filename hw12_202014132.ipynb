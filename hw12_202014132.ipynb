{
  "nbformat": 4,
  "nbformat_minor": 0,
  "metadata": {
    "colab": {
      "name": "hw12_202014132.ipynb",
      "provenance": [],
      "collapsed_sections": [],
      "authorship_tag": "ABX9TyNqOsSwSKmFMg267UkAZAsh",
      "include_colab_link": true
    },
    "kernelspec": {
      "name": "python3",
      "display_name": "Python 3"
    },
    "language_info": {
      "name": "python"
    }
  },
  "cells": [
    {
      "cell_type": "markdown",
      "metadata": {
        "id": "view-in-github",
        "colab_type": "text"
      },
      "source": [
        "<a href=\"https://colab.research.google.com/github/myoungjinseo/data-analysis/blob/main/hw12_202014132.ipynb\" target=\"_parent\"><img src=\"https://colab.research.google.com/assets/colab-badge.svg\" alt=\"Open In Colab\"/></a>"
      ]
    },
    {
      "cell_type": "markdown",
      "metadata": {
        "id": "qnbTeeh4fbP5"
      },
      "source": [
        "## 타이타닉 생존자 분류 문제\n",
        "+ 타이타닉 승선 정보를 이용하여 승객의 생존 여부를 <U>분류</U>하는 문제\n",
        "+ 분류 (classification)\n",
        "    + 여러 개의 클래스(또흔 종류) 중 하나를 구별해내는 <U>지도 학습</U>의 대표적인 문제\n",
        "    - 이진 분류(Binary classification)\n",
        "      - 2개의 클래스 중에서 하나를 고르는 문제\n",
        "+ 타이타닉 생존자 분류 문제는 샘플의 타겟이 생존(1), 사망(0)으로 구부뇌는 이진 분류 모델 \n",
        "\n",
        "연속된 수치 - 회귀<-> 분류\n",
        "\n",
        "다중 분류 (mutil-class classification) - 여러개를 분류하는 문제"
      ]
    },
    {
      "cell_type": "markdown",
      "metadata": {
        "id": "v28YXgMIfk9u"
      },
      "source": [
        "## 타이타닉 데이터셋의 구성\n",
        "+ pclass : 승객 등급\n",
        "+ name : 승객이름\n",
        "+ sex : 승객 성별\n",
        "+ age : 승객 나이\n",
        "+ sibsp : 동승한 형제 또는 배우자 수\n",
        "+ parch : 동승한 부모 또는 자녀 수\n",
        "+ ticket : 티켓 번호\n",
        "+ fare : 지불 요금\n",
        "+ cabin : 선실 이름\n",
        "+ embarked : 승선항(C :  쉴부르크 , Q: 퀸즈타운 , S: 사우스햄트) => 범주형\n",
        "+ body : 사망자 식별 번호\n",
        "+ home.dest : 고향 또는 목적지\n",
        "+ survived : 생존 여부(1: 생존 0:사망)\n"
      ]
    },
    {
      "cell_type": "markdown",
      "metadata": {
        "id": "87noLS6Xfm_X"
      },
      "source": [
        "## 훈련 세트와 테스트 세트\n",
        "+ <U>지도 학습</U> 모델의 성능 평가를 제대로 하기 위해서는 <U>훈련</U> 데이터와 <U>평가에 사용할 데이터</U>가 달라야함\n",
        "\n",
        "+ 훈련 세트(train set)\n",
        "  + 훈련에 사용하는 데이터\n",
        "  + titanic_train.csv => 훈련 => 정답을 알고있음\n",
        "+ 테스트 세트(test set)\n",
        "  + 평가에 사용하는 데이터\n",
        "  + titanic_test.csv => 정답모름 => 예측한 결과를 예측 => 정답 - 예측결과 로 평가\n"
      ]
    },
    {
      "cell_type": "code",
      "metadata": {
        "colab": {
          "base_uri": "https://localhost:8080/"
        },
        "id": "5TJM-gVifpLW",
        "outputId": "661258cf-b0ae-47e5-bec7-9543ea763faf"
      },
      "source": [
        "from google.colab import drive \n",
        "drive.mount('/content/gdrive')\n",
        "%cd /content/gdrive/MyDrive/data\n",
        "\n",
        "import warnings \n",
        "warnings.filterwarnings('ignore')"
      ],
      "execution_count": null,
      "outputs": [
        {
          "output_type": "stream",
          "name": "stdout",
          "text": [
            "Drive already mounted at /content/gdrive; to attempt to forcibly remount, call drive.mount(\"/content/gdrive\", force_remount=True).\n",
            "/content/gdrive/MyDrive/data\n"
          ]
        }
      ]
    },
    {
      "cell_type": "code",
      "metadata": {
        "colab": {
          "base_uri": "https://localhost:8080/"
        },
        "id": "7zWDU_Ixfq3F",
        "outputId": "df946c77-87ce-4f17-aeff-bab005ded626"
      },
      "source": [
        "!ls -al"
      ],
      "execution_count": null,
      "outputs": [
        {
          "output_type": "stream",
          "name": "stdout",
          "text": [
            "total 48956\n",
            "-rw------- 1 root root    17945 Jun 16 06:53 batter_stats_2017.csv\n",
            "-rw------- 1 root root    53564 Jun 16 06:53 BostonHousing2.csv\n",
            "-rw------- 1 root root   364975 Jun 16 06:53 chipotle.tsv\n",
            "drwx------ 3 root root     4096 Dec  4 18:31 data\n",
            "-rw------- 1 root root     4973 Jun 16 06:53 drinks.csv\n",
            "-rw------- 1 root root     7007 Jun 16 06:53 korean_stopwords.txt\n",
            "-rw------- 1 root root    13167 Jun 16 06:53 market-price.csv\n",
            "-rw------- 1 root root      191 Jun 16 06:53 market-price-test.csv\n",
            "drwx------ 2 root root     4096 Dec  4 18:31 ml-1m\n",
            "-rw------- 1 root root 45580638 Jun 16 06:53 online_retail.csv\n",
            "-rw------- 1 root root    14726 Jun 16 06:53 picher_stats_2017.csv\n",
            "-rw------- 1 root root    30870 Jun 16 06:53 titanic_test.csv\n",
            "-rw------- 1 root root    72945 Jun 16 06:53 titanic_train.csv\n",
            "-rw------- 1 root root  3598948 Jun 16 06:53 used_mobile_phone.csv\n",
            "-rw------- 1 root root     6327 Jun 16 06:53 used_mobile_phone_stopwords.pkl\n",
            "drwx------ 2 root root     4096 Dec  4 18:31 used_mobile_pickles\n",
            "-rw------- 1 root root    84199 Jun 16 06:53 winequality-red.csv\n",
            "-rw------- 1 root root   264426 Jun 16 06:53 winequality-white.csv\n"
          ]
        }
      ]
    },
    {
      "cell_type": "code",
      "metadata": {
        "id": "34ZwuZqSf95Z",
        "colab": {
          "base_uri": "https://localhost:8080/",
          "height": 206
        },
        "outputId": "cd84dc15-348b-4943-c8e0-e87d1c9a86ff"
      },
      "source": [
        "import pandas as pd\n",
        "\n",
        "train_df = pd.read_csv('./titanic_train.csv')\n",
        "test_df = pd.read_csv('./titanic_test.csv')\n",
        "\n",
        "train_df.head()"
      ],
      "execution_count": null,
      "outputs": [
        {
          "output_type": "execute_result",
          "data": {
            "text/html": [
              "<div>\n",
              "<style scoped>\n",
              "    .dataframe tbody tr th:only-of-type {\n",
              "        vertical-align: middle;\n",
              "    }\n",
              "\n",
              "    .dataframe tbody tr th {\n",
              "        vertical-align: top;\n",
              "    }\n",
              "\n",
              "    .dataframe thead th {\n",
              "        text-align: right;\n",
              "    }\n",
              "</style>\n",
              "<table border=\"1\" class=\"dataframe\">\n",
              "  <thead>\n",
              "    <tr style=\"text-align: right;\">\n",
              "      <th></th>\n",
              "      <th>pclass</th>\n",
              "      <th>survived</th>\n",
              "      <th>name</th>\n",
              "      <th>sex</th>\n",
              "      <th>age</th>\n",
              "      <th>sibsp</th>\n",
              "      <th>parch</th>\n",
              "      <th>ticket</th>\n",
              "      <th>fare</th>\n",
              "      <th>cabin</th>\n",
              "      <th>embarked</th>\n",
              "      <th>body</th>\n",
              "      <th>home.dest</th>\n",
              "    </tr>\n",
              "  </thead>\n",
              "  <tbody>\n",
              "    <tr>\n",
              "      <th>0</th>\n",
              "      <td>2</td>\n",
              "      <td>1</td>\n",
              "      <td>Mellinger, Miss. Madeleine Violet</td>\n",
              "      <td>female</td>\n",
              "      <td>13.0</td>\n",
              "      <td>0</td>\n",
              "      <td>1</td>\n",
              "      <td>250644</td>\n",
              "      <td>19.5000</td>\n",
              "      <td>NaN</td>\n",
              "      <td>S</td>\n",
              "      <td>NaN</td>\n",
              "      <td>England / Bennington, VT</td>\n",
              "    </tr>\n",
              "    <tr>\n",
              "      <th>1</th>\n",
              "      <td>2</td>\n",
              "      <td>1</td>\n",
              "      <td>Wells, Miss. Joan</td>\n",
              "      <td>female</td>\n",
              "      <td>4.0</td>\n",
              "      <td>1</td>\n",
              "      <td>1</td>\n",
              "      <td>29103</td>\n",
              "      <td>23.0000</td>\n",
              "      <td>NaN</td>\n",
              "      <td>S</td>\n",
              "      <td>NaN</td>\n",
              "      <td>Cornwall / Akron, OH</td>\n",
              "    </tr>\n",
              "    <tr>\n",
              "      <th>2</th>\n",
              "      <td>2</td>\n",
              "      <td>1</td>\n",
              "      <td>Duran y More, Miss. Florentina</td>\n",
              "      <td>female</td>\n",
              "      <td>30.0</td>\n",
              "      <td>1</td>\n",
              "      <td>0</td>\n",
              "      <td>SC/PARIS 2148</td>\n",
              "      <td>13.8583</td>\n",
              "      <td>NaN</td>\n",
              "      <td>C</td>\n",
              "      <td>NaN</td>\n",
              "      <td>Barcelona, Spain / Havana, Cuba</td>\n",
              "    </tr>\n",
              "    <tr>\n",
              "      <th>3</th>\n",
              "      <td>3</td>\n",
              "      <td>0</td>\n",
              "      <td>Scanlan, Mr. James</td>\n",
              "      <td>male</td>\n",
              "      <td>NaN</td>\n",
              "      <td>0</td>\n",
              "      <td>0</td>\n",
              "      <td>36209</td>\n",
              "      <td>7.7250</td>\n",
              "      <td>NaN</td>\n",
              "      <td>Q</td>\n",
              "      <td>NaN</td>\n",
              "      <td>NaN</td>\n",
              "    </tr>\n",
              "    <tr>\n",
              "      <th>4</th>\n",
              "      <td>3</td>\n",
              "      <td>1</td>\n",
              "      <td>Bradley, Miss. Bridget Delia</td>\n",
              "      <td>female</td>\n",
              "      <td>22.0</td>\n",
              "      <td>0</td>\n",
              "      <td>0</td>\n",
              "      <td>334914</td>\n",
              "      <td>7.7250</td>\n",
              "      <td>NaN</td>\n",
              "      <td>Q</td>\n",
              "      <td>NaN</td>\n",
              "      <td>Kingwilliamstown, Co Cork, Ireland Glens Falls...</td>\n",
              "    </tr>\n",
              "  </tbody>\n",
              "</table>\n",
              "</div>"
            ],
            "text/plain": [
              "   pclass  survived  ... body                                          home.dest\n",
              "0       2         1  ...  NaN                           England / Bennington, VT\n",
              "1       2         1  ...  NaN                               Cornwall / Akron, OH\n",
              "2       2         1  ...  NaN                    Barcelona, Spain / Havana, Cuba\n",
              "3       3         0  ...  NaN                                                NaN\n",
              "4       3         1  ...  NaN  Kingwilliamstown, Co Cork, Ireland Glens Falls...\n",
              "\n",
              "[5 rows x 13 columns]"
            ]
          },
          "metadata": {},
          "execution_count": 3
        }
      ]
    },
    {
      "cell_type": "code",
      "metadata": {
        "colab": {
          "base_uri": "https://localhost:8080/",
          "height": 206
        },
        "id": "SDMGrJMyvbTO",
        "outputId": "2460d0a2-746c-4073-974c-3a0052bfdcdb"
      },
      "source": [
        "test_df.head()"
      ],
      "execution_count": null,
      "outputs": [
        {
          "output_type": "execute_result",
          "data": {
            "text/html": [
              "<div>\n",
              "<style scoped>\n",
              "    .dataframe tbody tr th:only-of-type {\n",
              "        vertical-align: middle;\n",
              "    }\n",
              "\n",
              "    .dataframe tbody tr th {\n",
              "        vertical-align: top;\n",
              "    }\n",
              "\n",
              "    .dataframe thead th {\n",
              "        text-align: right;\n",
              "    }\n",
              "</style>\n",
              "<table border=\"1\" class=\"dataframe\">\n",
              "  <thead>\n",
              "    <tr style=\"text-align: right;\">\n",
              "      <th></th>\n",
              "      <th>pclass</th>\n",
              "      <th>survived</th>\n",
              "      <th>name</th>\n",
              "      <th>sex</th>\n",
              "      <th>age</th>\n",
              "      <th>sibsp</th>\n",
              "      <th>parch</th>\n",
              "      <th>ticket</th>\n",
              "      <th>fare</th>\n",
              "      <th>cabin</th>\n",
              "      <th>embarked</th>\n",
              "      <th>body</th>\n",
              "      <th>home.dest</th>\n",
              "    </tr>\n",
              "  </thead>\n",
              "  <tbody>\n",
              "    <tr>\n",
              "      <th>0</th>\n",
              "      <td>3</td>\n",
              "      <td>0</td>\n",
              "      <td>Rekic, Mr. Tido</td>\n",
              "      <td>male</td>\n",
              "      <td>38.0</td>\n",
              "      <td>0</td>\n",
              "      <td>0</td>\n",
              "      <td>349249</td>\n",
              "      <td>7.8958</td>\n",
              "      <td>NaN</td>\n",
              "      <td>S</td>\n",
              "      <td>NaN</td>\n",
              "      <td>NaN</td>\n",
              "    </tr>\n",
              "    <tr>\n",
              "      <th>1</th>\n",
              "      <td>2</td>\n",
              "      <td>1</td>\n",
              "      <td>Phillips, Miss. Alice Frances Louisa</td>\n",
              "      <td>female</td>\n",
              "      <td>21.0</td>\n",
              "      <td>0</td>\n",
              "      <td>1</td>\n",
              "      <td>S.O./P.P. 2</td>\n",
              "      <td>21.0000</td>\n",
              "      <td>NaN</td>\n",
              "      <td>S</td>\n",
              "      <td>NaN</td>\n",
              "      <td>Ilfracombe, Devon</td>\n",
              "    </tr>\n",
              "    <tr>\n",
              "      <th>2</th>\n",
              "      <td>2</td>\n",
              "      <td>0</td>\n",
              "      <td>Jacobsohn, Mr. Sidney Samuel</td>\n",
              "      <td>male</td>\n",
              "      <td>42.0</td>\n",
              "      <td>1</td>\n",
              "      <td>0</td>\n",
              "      <td>243847</td>\n",
              "      <td>27.0000</td>\n",
              "      <td>NaN</td>\n",
              "      <td>S</td>\n",
              "      <td>NaN</td>\n",
              "      <td>London</td>\n",
              "    </tr>\n",
              "    <tr>\n",
              "      <th>3</th>\n",
              "      <td>3</td>\n",
              "      <td>0</td>\n",
              "      <td>Risien, Mr. Samuel Beard</td>\n",
              "      <td>male</td>\n",
              "      <td>NaN</td>\n",
              "      <td>0</td>\n",
              "      <td>0</td>\n",
              "      <td>364498</td>\n",
              "      <td>14.5000</td>\n",
              "      <td>NaN</td>\n",
              "      <td>S</td>\n",
              "      <td>NaN</td>\n",
              "      <td>NaN</td>\n",
              "    </tr>\n",
              "    <tr>\n",
              "      <th>4</th>\n",
              "      <td>2</td>\n",
              "      <td>0</td>\n",
              "      <td>Denbury, Mr. Herbert</td>\n",
              "      <td>male</td>\n",
              "      <td>25.0</td>\n",
              "      <td>0</td>\n",
              "      <td>0</td>\n",
              "      <td>C.A. 31029</td>\n",
              "      <td>31.5000</td>\n",
              "      <td>NaN</td>\n",
              "      <td>S</td>\n",
              "      <td>NaN</td>\n",
              "      <td>Guernsey / Elizabeth, NJ</td>\n",
              "    </tr>\n",
              "  </tbody>\n",
              "</table>\n",
              "</div>"
            ],
            "text/plain": [
              "   pclass  survived  ... body                 home.dest\n",
              "0       3         0  ...  NaN                       NaN\n",
              "1       2         1  ...  NaN         Ilfracombe, Devon\n",
              "2       2         0  ...  NaN                    London\n",
              "3       3         0  ...  NaN                       NaN\n",
              "4       2         0  ...  NaN  Guernsey / Elizabeth, NJ\n",
              "\n",
              "[5 rows x 13 columns]"
            ]
          },
          "metadata": {},
          "execution_count": 4
        }
      ]
    },
    {
      "cell_type": "code",
      "metadata": {
        "colab": {
          "base_uri": "https://localhost:8080/"
        },
        "id": "Oy9EaqqJvfCN",
        "outputId": "85b44b44-be89-4982-a02a-f8c7a8a75847"
      },
      "source": [
        "train_df.info()"
      ],
      "execution_count": null,
      "outputs": [
        {
          "output_type": "stream",
          "name": "stdout",
          "text": [
            "<class 'pandas.core.frame.DataFrame'>\n",
            "RangeIndex: 916 entries, 0 to 915\n",
            "Data columns (total 13 columns):\n",
            " #   Column     Non-Null Count  Dtype  \n",
            "---  ------     --------------  -----  \n",
            " 0   pclass     916 non-null    int64  \n",
            " 1   survived   916 non-null    int64  \n",
            " 2   name       916 non-null    object \n",
            " 3   sex        916 non-null    object \n",
            " 4   age        741 non-null    float64\n",
            " 5   sibsp      916 non-null    int64  \n",
            " 6   parch      916 non-null    int64  \n",
            " 7   ticket     916 non-null    object \n",
            " 8   fare       916 non-null    float64\n",
            " 9   cabin      214 non-null    object \n",
            " 10  embarked   914 non-null    object \n",
            " 11  body       85 non-null     float64\n",
            " 12  home.dest  527 non-null    object \n",
            "dtypes: float64(3), int64(4), object(6)\n",
            "memory usage: 93.2+ KB\n"
          ]
        }
      ]
    },
    {
      "cell_type": "code",
      "metadata": {
        "colab": {
          "base_uri": "https://localhost:8080/"
        },
        "id": "ulYkT-ywviMi",
        "outputId": "be54cf68-106f-44b5-f786-47651c6922f7"
      },
      "source": [
        "test_df.info()"
      ],
      "execution_count": null,
      "outputs": [
        {
          "output_type": "stream",
          "name": "stdout",
          "text": [
            "<class 'pandas.core.frame.DataFrame'>\n",
            "RangeIndex: 393 entries, 0 to 392\n",
            "Data columns (total 13 columns):\n",
            " #   Column     Non-Null Count  Dtype  \n",
            "---  ------     --------------  -----  \n",
            " 0   pclass     393 non-null    int64  \n",
            " 1   survived   393 non-null    int64  \n",
            " 2   name       393 non-null    object \n",
            " 3   sex        393 non-null    object \n",
            " 4   age        305 non-null    float64\n",
            " 5   sibsp      393 non-null    int64  \n",
            " 6   parch      393 non-null    int64  \n",
            " 7   ticket     393 non-null    object \n",
            " 8   fare       393 non-null    float64\n",
            " 9   cabin      81 non-null     object \n",
            " 10  embarked   393 non-null    object \n",
            " 11  body       36 non-null     float64\n",
            " 12  home.dest  218 non-null    object \n",
            "dtypes: float64(3), int64(4), object(6)\n",
            "memory usage: 40.0+ KB\n"
          ]
        }
      ]
    },
    {
      "cell_type": "markdown",
      "metadata": {
        "id": "V1MVmHoGvlEQ"
      },
      "source": [
        "## 타이타닉 데이터셋 기본 정보\n",
        "- DataFrame.info()\n",
        "- 훈련 세트의 샘플 수 : 916개\n",
        "- 테스트 세트의 샘플 수: 393개\n",
        "- 일부 피처에 결측치가 존재"
      ]
    },
    {
      "cell_type": "markdown",
      "metadata": {
        "id": "oKxi6xC4wCQy"
      },
      "source": [
        "## 불필요한 피처 제거하기\n",
        "- 분석에 활용할 수 없는 피처\n",
        "  -name, cabin\n",
        "- 큰 의미가 없는 피처\n",
        "  - ticket, body, home.dst\n",
        "- DataFame.drop\n",
        "  - 매개 변수로 전달된 행이나 열을 제거\n",
        "  - axis=0: 인덱스(0) 또는 열제목 (1)\n",
        "  - inplace = False (기본 값이 False)"
      ]
    },
    {
      "cell_type": "code",
      "metadata": {
        "id": "KvTkDBZRKETS"
      },
      "source": [
        "train_df.drop(['name','cabin','ticket','body','home.dest'],axis=1,inplace=True)"
      ],
      "execution_count": null,
      "outputs": []
    },
    {
      "cell_type": "code",
      "metadata": {
        "colab": {
          "base_uri": "https://localhost:8080/",
          "height": 206
        },
        "id": "Y3XqgMuJKoZd",
        "outputId": "0b978f36-ad70-4dbb-d340-7f4d33180be5"
      },
      "source": [
        "train_df.head()"
      ],
      "execution_count": null,
      "outputs": [
        {
          "output_type": "execute_result",
          "data": {
            "text/html": [
              "<div>\n",
              "<style scoped>\n",
              "    .dataframe tbody tr th:only-of-type {\n",
              "        vertical-align: middle;\n",
              "    }\n",
              "\n",
              "    .dataframe tbody tr th {\n",
              "        vertical-align: top;\n",
              "    }\n",
              "\n",
              "    .dataframe thead th {\n",
              "        text-align: right;\n",
              "    }\n",
              "</style>\n",
              "<table border=\"1\" class=\"dataframe\">\n",
              "  <thead>\n",
              "    <tr style=\"text-align: right;\">\n",
              "      <th></th>\n",
              "      <th>pclass</th>\n",
              "      <th>survived</th>\n",
              "      <th>sex</th>\n",
              "      <th>age</th>\n",
              "      <th>sibsp</th>\n",
              "      <th>parch</th>\n",
              "      <th>fare</th>\n",
              "      <th>embarked</th>\n",
              "    </tr>\n",
              "  </thead>\n",
              "  <tbody>\n",
              "    <tr>\n",
              "      <th>0</th>\n",
              "      <td>2</td>\n",
              "      <td>1</td>\n",
              "      <td>female</td>\n",
              "      <td>13.0</td>\n",
              "      <td>0</td>\n",
              "      <td>1</td>\n",
              "      <td>19.5000</td>\n",
              "      <td>S</td>\n",
              "    </tr>\n",
              "    <tr>\n",
              "      <th>1</th>\n",
              "      <td>2</td>\n",
              "      <td>1</td>\n",
              "      <td>female</td>\n",
              "      <td>4.0</td>\n",
              "      <td>1</td>\n",
              "      <td>1</td>\n",
              "      <td>23.0000</td>\n",
              "      <td>S</td>\n",
              "    </tr>\n",
              "    <tr>\n",
              "      <th>2</th>\n",
              "      <td>2</td>\n",
              "      <td>1</td>\n",
              "      <td>female</td>\n",
              "      <td>30.0</td>\n",
              "      <td>1</td>\n",
              "      <td>0</td>\n",
              "      <td>13.8583</td>\n",
              "      <td>C</td>\n",
              "    </tr>\n",
              "    <tr>\n",
              "      <th>3</th>\n",
              "      <td>3</td>\n",
              "      <td>0</td>\n",
              "      <td>male</td>\n",
              "      <td>NaN</td>\n",
              "      <td>0</td>\n",
              "      <td>0</td>\n",
              "      <td>7.7250</td>\n",
              "      <td>Q</td>\n",
              "    </tr>\n",
              "    <tr>\n",
              "      <th>4</th>\n",
              "      <td>3</td>\n",
              "      <td>1</td>\n",
              "      <td>female</td>\n",
              "      <td>22.0</td>\n",
              "      <td>0</td>\n",
              "      <td>0</td>\n",
              "      <td>7.7250</td>\n",
              "      <td>Q</td>\n",
              "    </tr>\n",
              "  </tbody>\n",
              "</table>\n",
              "</div>"
            ],
            "text/plain": [
              "   pclass  survived     sex   age  sibsp  parch     fare embarked\n",
              "0       2         1  female  13.0      0      1  19.5000        S\n",
              "1       2         1  female   4.0      1      1  23.0000        S\n",
              "2       2         1  female  30.0      1      0  13.8583        C\n",
              "3       3         0    male   NaN      0      0   7.7250        Q\n",
              "4       3         1  female  22.0      0      0   7.7250        Q"
            ]
          },
          "metadata": {},
          "execution_count": 8
        }
      ]
    },
    {
      "cell_type": "code",
      "metadata": {
        "id": "UEdgLbIRKBW_"
      },
      "source": [
        "test_df = test_df.drop(['name','cabin','ticket','body','home.dest'],axis=1)"
      ],
      "execution_count": null,
      "outputs": []
    },
    {
      "cell_type": "code",
      "metadata": {
        "colab": {
          "base_uri": "https://localhost:8080/",
          "height": 206
        },
        "id": "w4KFCWvBLBSG",
        "outputId": "f4fc9237-6554-4023-b2f3-b5ccebed35c3"
      },
      "source": [
        "test_df.head()"
      ],
      "execution_count": null,
      "outputs": [
        {
          "output_type": "execute_result",
          "data": {
            "text/html": [
              "<div>\n",
              "<style scoped>\n",
              "    .dataframe tbody tr th:only-of-type {\n",
              "        vertical-align: middle;\n",
              "    }\n",
              "\n",
              "    .dataframe tbody tr th {\n",
              "        vertical-align: top;\n",
              "    }\n",
              "\n",
              "    .dataframe thead th {\n",
              "        text-align: right;\n",
              "    }\n",
              "</style>\n",
              "<table border=\"1\" class=\"dataframe\">\n",
              "  <thead>\n",
              "    <tr style=\"text-align: right;\">\n",
              "      <th></th>\n",
              "      <th>pclass</th>\n",
              "      <th>survived</th>\n",
              "      <th>sex</th>\n",
              "      <th>age</th>\n",
              "      <th>sibsp</th>\n",
              "      <th>parch</th>\n",
              "      <th>fare</th>\n",
              "      <th>embarked</th>\n",
              "    </tr>\n",
              "  </thead>\n",
              "  <tbody>\n",
              "    <tr>\n",
              "      <th>0</th>\n",
              "      <td>3</td>\n",
              "      <td>0</td>\n",
              "      <td>male</td>\n",
              "      <td>38.0</td>\n",
              "      <td>0</td>\n",
              "      <td>0</td>\n",
              "      <td>7.8958</td>\n",
              "      <td>S</td>\n",
              "    </tr>\n",
              "    <tr>\n",
              "      <th>1</th>\n",
              "      <td>2</td>\n",
              "      <td>1</td>\n",
              "      <td>female</td>\n",
              "      <td>21.0</td>\n",
              "      <td>0</td>\n",
              "      <td>1</td>\n",
              "      <td>21.0000</td>\n",
              "      <td>S</td>\n",
              "    </tr>\n",
              "    <tr>\n",
              "      <th>2</th>\n",
              "      <td>2</td>\n",
              "      <td>0</td>\n",
              "      <td>male</td>\n",
              "      <td>42.0</td>\n",
              "      <td>1</td>\n",
              "      <td>0</td>\n",
              "      <td>27.0000</td>\n",
              "      <td>S</td>\n",
              "    </tr>\n",
              "    <tr>\n",
              "      <th>3</th>\n",
              "      <td>3</td>\n",
              "      <td>0</td>\n",
              "      <td>male</td>\n",
              "      <td>NaN</td>\n",
              "      <td>0</td>\n",
              "      <td>0</td>\n",
              "      <td>14.5000</td>\n",
              "      <td>S</td>\n",
              "    </tr>\n",
              "    <tr>\n",
              "      <th>4</th>\n",
              "      <td>2</td>\n",
              "      <td>0</td>\n",
              "      <td>male</td>\n",
              "      <td>25.0</td>\n",
              "      <td>0</td>\n",
              "      <td>0</td>\n",
              "      <td>31.5000</td>\n",
              "      <td>S</td>\n",
              "    </tr>\n",
              "  </tbody>\n",
              "</table>\n",
              "</div>"
            ],
            "text/plain": [
              "   pclass  survived     sex   age  sibsp  parch     fare embarked\n",
              "0       3         0    male  38.0      0      0   7.8958        S\n",
              "1       2         1  female  21.0      0      1  21.0000        S\n",
              "2       2         0    male  42.0      1      0  27.0000        S\n",
              "3       3         0    male   NaN      0      0  14.5000        S\n",
              "4       2         0    male  25.0      0      0  31.5000        S"
            ]
          },
          "metadata": {},
          "execution_count": 10
        }
      ]
    },
    {
      "cell_type": "markdown",
      "metadata": {
        "id": "JKKuweJdLC_x"
      },
      "source": [
        "## 탐색적 데이터 분석\n",
        "- 생존자 비율\n",
        "- 승객 등급 비율 \n",
        "- pyplot.bar()"
      ]
    },
    {
      "cell_type": "code",
      "metadata": {
        "colab": {
          "base_uri": "https://localhost:8080/"
        },
        "id": "shQiDZG3LNAK",
        "outputId": "4e896e03-3c46-46fa-f9b0-44d74df0a8d5"
      },
      "source": [
        "survived_count = train_df['survived'].value_counts().sort_index()\n",
        "print(survived_count)"
      ],
      "execution_count": null,
      "outputs": [
        {
          "output_type": "stream",
          "name": "stdout",
          "text": [
            "0    563\n",
            "1    353\n",
            "Name: survived, dtype: int64\n"
          ]
        }
      ]
    },
    {
      "cell_type": "code",
      "metadata": {
        "colab": {
          "base_uri": "https://localhost:8080/",
          "height": 279
        },
        "id": "8J-GWZ2hMGsL",
        "outputId": "6dbaaa4a-cc71-429d-b438-3d2e4943047b"
      },
      "source": [
        "import matplotlib.pyplot as plt\n",
        "\n",
        "plt.bar(survived_count.index,survived_count.values)\n",
        "plt.xticks(survived_count.index)\n",
        "plt.xlabel('survived')\n",
        "plt.ylabel('count ')\n",
        "plt.show()\n"
      ],
      "execution_count": null,
      "outputs": [
        {
          "output_type": "display_data",
          "data": {
            "image/png": "[encoded data removed]",
            "text/plain": [
              "<Figure size 432x288 with 1 Axes>"
            ]
          },
          "metadata": {
            "needs_background": "light"
          }
        }
      ]
    },
    {
      "cell_type": "code",
      "metadata": {
        "colab": {
          "base_uri": "https://localhost:8080/",
          "height": 352
        },
        "id": "X1_nqoDwMWZq",
        "outputId": "46bf01e1-b3da-48c4-fc84-55eb3932c1a7"
      },
      "source": [
        "pclass_count = train_df['pclass'].value_counts().sort_index()\n",
        "print(pclass_count)\n",
        "\n",
        "plt.bar(pclass_count.index,pclass_count.values)\n",
        "plt.xticks(pclass_count.index)\n",
        "plt.xlabel('pclass')\n",
        "plt.ylabel('count ')\n",
        "plt.show()\n"
      ],
      "execution_count": null,
      "outputs": [
        {
          "output_type": "stream",
          "name": "stdout",
          "text": [
            "1    230\n",
            "2    188\n",
            "3    498\n",
            "Name: pclass, dtype: int64\n"
          ]
        },
        {
          "output_type": "display_data",
          "data": {
            "image/png": "[encoded data removed]",
            "text/plain": [
              "<Figure size 432x288 with 1 Axes>"
            ]
          },
          "metadata": {
            "needs_background": "light"
          }
        }
      ]
    },
    {
      "cell_type": "markdown",
      "metadata": {
        "id": "8EXfZSXVL7mo"
      },
      "source": [
        "## 탐색적 데이터 분석\n",
        "- 승객 등급별 생존자 분포\n",
        "  - 승객 등급별로 생존자 수를 시각화\n",
        "- seaborn.countplot()\n",
        "  - x:그룹화할 피처 정보\n",
        "  - hue : 그훕화 정보"
      ]
    },
    {
      "cell_type": "code",
      "metadata": {
        "colab": {
          "base_uri": "https://localhost:8080/",
          "height": 279
        },
        "id": "0HIRNIQtNTtd",
        "outputId": "dab9fc8a-ebc3-4af5-e49a-805ced40cd8a"
      },
      "source": [
        "import seaborn as sns\n",
        "\n",
        "sns.countplot(x='pclass', hue ='survived',data =train_df)\n",
        "plt.show()"
      ],
      "execution_count": null,
      "outputs": [
        {
          "output_type": "display_data",
          "data": {
            "image/png": "[encoded data removed]",
            "text/plain": [
              "<Figure size 432x288 with 1 Axes>"
            ]
          },
          "metadata": {
            "needs_background": "light"
          }
        }
      ]
    },
    {
      "cell_type": "markdown",
      "metadata": {
        "id": "qDbBHhhYNp5r"
      },
      "source": [
        "## Step2 분류: 생존자 분류 모델 만들기\n",
        "- 데이터 전처리\n",
        "  - 결측치, 범주형 피처 전처리\n",
        "- 로지스틱 회귀 모델\n",
        "- 결정 트리 모델\n",
        "- 분류 모델의 평가"
      ]
    },
    {
      "cell_type": "code",
      "metadata": {
        "colab": {
          "base_uri": "https://localhost:8080/"
        },
        "id": "prnzWSP3N04n",
        "outputId": "9090a7fe-f785-46d2-ed88-77c6126ef1ba"
      },
      "source": [
        "train_df.info()"
      ],
      "execution_count": null,
      "outputs": [
        {
          "output_type": "stream",
          "name": "stdout",
          "text": [
            "<class 'pandas.core.frame.DataFrame'>\n",
            "RangeIndex: 916 entries, 0 to 915\n",
            "Data columns (total 8 columns):\n",
            " #   Column    Non-Null Count  Dtype  \n",
            "---  ------    --------------  -----  \n",
            " 0   pclass    916 non-null    int64  \n",
            " 1   survived  916 non-null    int64  \n",
            " 2   sex       916 non-null    object \n",
            " 3   age       741 non-null    float64\n",
            " 4   sibsp     916 non-null    int64  \n",
            " 5   parch     916 non-null    int64  \n",
            " 6   fare      916 non-null    float64\n",
            " 7   embarked  914 non-null    object \n",
            "dtypes: float64(2), int64(4), object(2)\n",
            "memory usage: 57.4+ KB\n"
          ]
        }
      ]
    },
    {
      "cell_type": "code",
      "metadata": {
        "colab": {
          "base_uri": "https://localhost:8080/"
        },
        "id": "VutxQNEFN6HS",
        "outputId": "ba91576b-9284-47fb-a9d0-2e99ccbc42bc"
      },
      "source": [
        "test_df.info()"
      ],
      "execution_count": null,
      "outputs": [
        {
          "output_type": "stream",
          "name": "stdout",
          "text": [
            "<class 'pandas.core.frame.DataFrame'>\n",
            "RangeIndex: 393 entries, 0 to 392\n",
            "Data columns (total 8 columns):\n",
            " #   Column    Non-Null Count  Dtype  \n",
            "---  ------    --------------  -----  \n",
            " 0   pclass    393 non-null    int64  \n",
            " 1   survived  393 non-null    int64  \n",
            " 2   sex       393 non-null    object \n",
            " 3   age       305 non-null    float64\n",
            " 4   sibsp     393 non-null    int64  \n",
            " 5   parch     393 non-null    int64  \n",
            " 6   fare      393 non-null    float64\n",
            " 7   embarked  393 non-null    object \n",
            "dtypes: float64(2), int64(4), object(2)\n",
            "memory usage: 24.7+ KB\n"
          ]
        }
      ]
    },
    {
      "cell_type": "markdown",
      "metadata": {
        "id": "YG1G-MXyN7wD"
      },
      "source": [
        "## 데이터 전처리\n",
        "- 일부 샘플의 결측치 존재\n",
        "  - age, embarked\n",
        "- 범주형 피처 존"
      ]
    },
    {
      "cell_type": "markdown",
      "metadata": {
        "id": "KtFknRZoOILh"
      },
      "source": [
        "- 결측값 처리 방법\n",
        "1. 결측이 존재하는 **샘플**을 제거하기\n",
        "  - 처리가 쉬우나 주관이 개입될 여지가 있고, **중요한 데이터**가 삭제될 가능성이 큼\n",
        "2. **평균값**, **중앙값**, **최빈값** 등으로 채우기\n",
        "  - 수치형 피처는 **평균값** 또는 **중앙값** 사용\n",
        "  - 범주형 피처는 **최빈값**을 사용\n",
        "  - **모든 샘플을 분석에 활용**할 수 있지만, **데이터가 왜곡될 수 있음**\n"
      ]
    },
    {
      "cell_type": "code",
      "metadata": {
        "colab": {
          "base_uri": "https://localhost:8080/",
          "height": 423
        },
        "id": "L_czgQC_Pa95",
        "outputId": "36e5a68c-064a-4cf3-96e1-b37c1a63ef8e"
      },
      "source": [
        "train_df"
      ],
      "execution_count": null,
      "outputs": [
        {
          "output_type": "execute_result",
          "data": {
            "text/html": [
              "<div>\n",
              "<style scoped>\n",
              "    .dataframe tbody tr th:only-of-type {\n",
              "        vertical-align: middle;\n",
              "    }\n",
              "\n",
              "    .dataframe tbody tr th {\n",
              "        vertical-align: top;\n",
              "    }\n",
              "\n",
              "    .dataframe thead th {\n",
              "        text-align: right;\n",
              "    }\n",
              "</style>\n",
              "<table border=\"1\" class=\"dataframe\">\n",
              "  <thead>\n",
              "    <tr style=\"text-align: right;\">\n",
              "      <th></th>\n",
              "      <th>pclass</th>\n",
              "      <th>survived</th>\n",
              "      <th>sex</th>\n",
              "      <th>age</th>\n",
              "      <th>sibsp</th>\n",
              "      <th>parch</th>\n",
              "      <th>fare</th>\n",
              "      <th>embarked</th>\n",
              "    </tr>\n",
              "  </thead>\n",
              "  <tbody>\n",
              "    <tr>\n",
              "      <th>0</th>\n",
              "      <td>2</td>\n",
              "      <td>1</td>\n",
              "      <td>female</td>\n",
              "      <td>13.00</td>\n",
              "      <td>0</td>\n",
              "      <td>1</td>\n",
              "      <td>19.5000</td>\n",
              "      <td>S</td>\n",
              "    </tr>\n",
              "    <tr>\n",
              "      <th>1</th>\n",
              "      <td>2</td>\n",
              "      <td>1</td>\n",
              "      <td>female</td>\n",
              "      <td>4.00</td>\n",
              "      <td>1</td>\n",
              "      <td>1</td>\n",
              "      <td>23.0000</td>\n",
              "      <td>S</td>\n",
              "    </tr>\n",
              "    <tr>\n",
              "      <th>2</th>\n",
              "      <td>2</td>\n",
              "      <td>1</td>\n",
              "      <td>female</td>\n",
              "      <td>30.00</td>\n",
              "      <td>1</td>\n",
              "      <td>0</td>\n",
              "      <td>13.8583</td>\n",
              "      <td>C</td>\n",
              "    </tr>\n",
              "    <tr>\n",
              "      <th>3</th>\n",
              "      <td>3</td>\n",
              "      <td>0</td>\n",
              "      <td>male</td>\n",
              "      <td>NaN</td>\n",
              "      <td>0</td>\n",
              "      <td>0</td>\n",
              "      <td>7.7250</td>\n",
              "      <td>Q</td>\n",
              "    </tr>\n",
              "    <tr>\n",
              "      <th>4</th>\n",
              "      <td>3</td>\n",
              "      <td>1</td>\n",
              "      <td>female</td>\n",
              "      <td>22.00</td>\n",
              "      <td>0</td>\n",
              "      <td>0</td>\n",
              "      <td>7.7250</td>\n",
              "      <td>Q</td>\n",
              "    </tr>\n",
              "    <tr>\n",
              "      <th>...</th>\n",
              "      <td>...</td>\n",
              "      <td>...</td>\n",
              "      <td>...</td>\n",
              "      <td>...</td>\n",
              "      <td>...</td>\n",
              "      <td>...</td>\n",
              "      <td>...</td>\n",
              "      <td>...</td>\n",
              "    </tr>\n",
              "    <tr>\n",
              "      <th>911</th>\n",
              "      <td>3</td>\n",
              "      <td>1</td>\n",
              "      <td>female</td>\n",
              "      <td>0.17</td>\n",
              "      <td>1</td>\n",
              "      <td>2</td>\n",
              "      <td>20.5750</td>\n",
              "      <td>S</td>\n",
              "    </tr>\n",
              "    <tr>\n",
              "      <th>912</th>\n",
              "      <td>3</td>\n",
              "      <td>0</td>\n",
              "      <td>male</td>\n",
              "      <td>NaN</td>\n",
              "      <td>0</td>\n",
              "      <td>0</td>\n",
              "      <td>8.0500</td>\n",
              "      <td>S</td>\n",
              "    </tr>\n",
              "    <tr>\n",
              "      <th>913</th>\n",
              "      <td>3</td>\n",
              "      <td>1</td>\n",
              "      <td>female</td>\n",
              "      <td>NaN</td>\n",
              "      <td>0</td>\n",
              "      <td>0</td>\n",
              "      <td>7.7333</td>\n",
              "      <td>Q</td>\n",
              "    </tr>\n",
              "    <tr>\n",
              "      <th>914</th>\n",
              "      <td>2</td>\n",
              "      <td>1</td>\n",
              "      <td>female</td>\n",
              "      <td>20.00</td>\n",
              "      <td>0</td>\n",
              "      <td>0</td>\n",
              "      <td>36.7500</td>\n",
              "      <td>S</td>\n",
              "    </tr>\n",
              "    <tr>\n",
              "      <th>915</th>\n",
              "      <td>3</td>\n",
              "      <td>0</td>\n",
              "      <td>female</td>\n",
              "      <td>32.00</td>\n",
              "      <td>1</td>\n",
              "      <td>1</td>\n",
              "      <td>15.5000</td>\n",
              "      <td>Q</td>\n",
              "    </tr>\n",
              "  </tbody>\n",
              "</table>\n",
              "<p>916 rows × 8 columns</p>\n",
              "</div>"
            ],
            "text/plain": [
              "     pclass  survived     sex    age  sibsp  parch     fare embarked\n",
              "0         2         1  female  13.00      0      1  19.5000        S\n",
              "1         2         1  female   4.00      1      1  23.0000        S\n",
              "2         2         1  female  30.00      1      0  13.8583        C\n",
              "3         3         0    male    NaN      0      0   7.7250        Q\n",
              "4         3         1  female  22.00      0      0   7.7250        Q\n",
              "..      ...       ...     ...    ...    ...    ...      ...      ...\n",
              "911       3         1  female   0.17      1      2  20.5750        S\n",
              "912       3         0    male    NaN      0      0   8.0500        S\n",
              "913       3         1  female    NaN      0      0   7.7333        Q\n",
              "914       2         1  female  20.00      0      0  36.7500        S\n",
              "915       3         0  female  32.00      1      1  15.5000        Q\n",
              "\n",
              "[916 rows x 8 columns]"
            ]
          },
          "metadata": {},
          "execution_count": 17
        }
      ]
    },
    {
      "cell_type": "code",
      "metadata": {
        "id": "UMYCN71kO0xX"
      },
      "source": [
        "age_mean = train_df[train_df['age']>0]['age'].mean()"
      ],
      "execution_count": null,
      "outputs": []
    },
    {
      "cell_type": "code",
      "metadata": {
        "id": "aIH5EN48PzJQ"
      },
      "source": [
        "train_df['age'] = train_df['age'].fillna(age_mean)"
      ],
      "execution_count": null,
      "outputs": []
    },
    {
      "cell_type": "code",
      "metadata": {
        "colab": {
          "base_uri": "https://localhost:8080/"
        },
        "id": "A8pCob1eQAaY",
        "outputId": "f14317c2-e4c9-4600-ca0c-8c4d81ebc529"
      },
      "source": [
        "train_df.info()"
      ],
      "execution_count": null,
      "outputs": [
        {
          "output_type": "stream",
          "name": "stdout",
          "text": [
            "<class 'pandas.core.frame.DataFrame'>\n",
            "RangeIndex: 916 entries, 0 to 915\n",
            "Data columns (total 8 columns):\n",
            " #   Column    Non-Null Count  Dtype  \n",
            "---  ------    --------------  -----  \n",
            " 0   pclass    916 non-null    int64  \n",
            " 1   survived  916 non-null    int64  \n",
            " 2   sex       916 non-null    object \n",
            " 3   age       916 non-null    float64\n",
            " 4   sibsp     916 non-null    int64  \n",
            " 5   parch     916 non-null    int64  \n",
            " 6   fare      916 non-null    float64\n",
            " 7   embarked  914 non-null    object \n",
            "dtypes: float64(2), int64(4), object(2)\n",
            "memory usage: 57.4+ KB\n"
          ]
        }
      ]
    },
    {
      "cell_type": "code",
      "metadata": {
        "colab": {
          "base_uri": "https://localhost:8080/"
        },
        "id": "tnZHcpXJQB10",
        "outputId": "09cfff90-b5e5-47d8-9b74-6cad9afce7dc"
      },
      "source": [
        "test_df['age'] = test_df['age'].fillna(age_mean)\n",
        "test_df.info()"
      ],
      "execution_count": null,
      "outputs": [
        {
          "output_type": "stream",
          "name": "stdout",
          "text": [
            "<class 'pandas.core.frame.DataFrame'>\n",
            "RangeIndex: 393 entries, 0 to 392\n",
            "Data columns (total 8 columns):\n",
            " #   Column    Non-Null Count  Dtype  \n",
            "---  ------    --------------  -----  \n",
            " 0   pclass    393 non-null    int64  \n",
            " 1   survived  393 non-null    int64  \n",
            " 2   sex       393 non-null    object \n",
            " 3   age       393 non-null    float64\n",
            " 4   sibsp     393 non-null    int64  \n",
            " 5   parch     393 non-null    int64  \n",
            " 6   fare      393 non-null    float64\n",
            " 7   embarked  393 non-null    object \n",
            "dtypes: float64(2), int64(4), object(2)\n",
            "memory usage: 24.7+ KB\n"
          ]
        }
      ]
    },
    {
      "cell_type": "code",
      "metadata": {
        "id": "Z9u8Z3J3QRl3"
      },
      "source": [
        "embarked_mode= train_df['embarked'].value_counts().index[0]"
      ],
      "execution_count": null,
      "outputs": []
    },
    {
      "cell_type": "code",
      "metadata": {
        "id": "bYkViSF2Qn--"
      },
      "source": [
        "train_df['embarked'] = train_df['embarked'].fillna(embarked_mode)"
      ],
      "execution_count": null,
      "outputs": []
    },
    {
      "cell_type": "code",
      "metadata": {
        "colab": {
          "base_uri": "https://localhost:8080/"
        },
        "id": "8jX-B4WYQyiX",
        "outputId": "9496927d-e5e3-4b89-a912-717e3b3d463d"
      },
      "source": [
        "train_df.info()"
      ],
      "execution_count": null,
      "outputs": [
        {
          "output_type": "stream",
          "name": "stdout",
          "text": [
            "<class 'pandas.core.frame.DataFrame'>\n",
            "RangeIndex: 916 entries, 0 to 915\n",
            "Data columns (total 8 columns):\n",
            " #   Column    Non-Null Count  Dtype  \n",
            "---  ------    --------------  -----  \n",
            " 0   pclass    916 non-null    int64  \n",
            " 1   survived  916 non-null    int64  \n",
            " 2   sex       916 non-null    object \n",
            " 3   age       916 non-null    float64\n",
            " 4   sibsp     916 non-null    int64  \n",
            " 5   parch     916 non-null    int64  \n",
            " 6   fare      916 non-null    float64\n",
            " 7   embarked  916 non-null    object \n",
            "dtypes: float64(2), int64(4), object(2)\n",
            "memory usage: 57.4+ KB\n"
          ]
        }
      ]
    },
    {
      "cell_type": "markdown",
      "metadata": {
        "id": "CQFOY70IQ8bU"
      },
      "source": [
        "## 데이터 전처리\n",
        "- 범주형 피처 처리 방법\n",
        "  - **원-핫 인코딩**을 적용하여 범주형 피처를 수치형 피처로 변환\n",
        "- pandas.**get_dummies()**"
      ]
    },
    {
      "cell_type": "code",
      "metadata": {
        "colab": {
          "base_uri": "https://localhost:8080/"
        },
        "id": "KOBrX60XRUF_",
        "outputId": "f7aa2c65-823a-449f-94a3-38590d25ebbc"
      },
      "source": [
        "data_df = train_df.append(test_df)\n",
        "data_df.info()"
      ],
      "execution_count": null,
      "outputs": [
        {
          "output_type": "stream",
          "name": "stdout",
          "text": [
            "<class 'pandas.core.frame.DataFrame'>\n",
            "Int64Index: 1309 entries, 0 to 392\n",
            "Data columns (total 8 columns):\n",
            " #   Column    Non-Null Count  Dtype  \n",
            "---  ------    --------------  -----  \n",
            " 0   pclass    1309 non-null   int64  \n",
            " 1   survived  1309 non-null   int64  \n",
            " 2   sex       1309 non-null   object \n",
            " 3   age       1309 non-null   float64\n",
            " 4   sibsp     1309 non-null   int64  \n",
            " 5   parch     1309 non-null   int64  \n",
            " 6   fare      1309 non-null   float64\n",
            " 7   embarked  1309 non-null   object \n",
            "dtypes: float64(2), int64(4), object(2)\n",
            "memory usage: 92.0+ KB\n"
          ]
        }
      ]
    },
    {
      "cell_type": "code",
      "metadata": {
        "id": "QnZKK-SMRZo_"
      },
      "source": [
        "train_num = len(train_df)"
      ],
      "execution_count": null,
      "outputs": []
    },
    {
      "cell_type": "code",
      "metadata": {
        "colab": {
          "base_uri": "https://localhost:8080/",
          "height": 206
        },
        "id": "GYqx5jT6RI62",
        "outputId": "3a77ddb0-37cc-44ab-d338-375d99e0df9a"
      },
      "source": [
        "train_df.head() "
      ],
      "execution_count": null,
      "outputs": [
        {
          "output_type": "execute_result",
          "data": {
            "text/html": [
              "<div>\n",
              "<style scoped>\n",
              "    .dataframe tbody tr th:only-of-type {\n",
              "        vertical-align: middle;\n",
              "    }\n",
              "\n",
              "    .dataframe tbody tr th {\n",
              "        vertical-align: top;\n",
              "    }\n",
              "\n",
              "    .dataframe thead th {\n",
              "        text-align: right;\n",
              "    }\n",
              "</style>\n",
              "<table border=\"1\" class=\"dataframe\">\n",
              "  <thead>\n",
              "    <tr style=\"text-align: right;\">\n",
              "      <th></th>\n",
              "      <th>pclass</th>\n",
              "      <th>survived</th>\n",
              "      <th>sex</th>\n",
              "      <th>age</th>\n",
              "      <th>sibsp</th>\n",
              "      <th>parch</th>\n",
              "      <th>fare</th>\n",
              "      <th>embarked</th>\n",
              "    </tr>\n",
              "  </thead>\n",
              "  <tbody>\n",
              "    <tr>\n",
              "      <th>0</th>\n",
              "      <td>2</td>\n",
              "      <td>1</td>\n",
              "      <td>female</td>\n",
              "      <td>13.000000</td>\n",
              "      <td>0</td>\n",
              "      <td>1</td>\n",
              "      <td>19.5000</td>\n",
              "      <td>S</td>\n",
              "    </tr>\n",
              "    <tr>\n",
              "      <th>1</th>\n",
              "      <td>2</td>\n",
              "      <td>1</td>\n",
              "      <td>female</td>\n",
              "      <td>4.000000</td>\n",
              "      <td>1</td>\n",
              "      <td>1</td>\n",
              "      <td>23.0000</td>\n",
              "      <td>S</td>\n",
              "    </tr>\n",
              "    <tr>\n",
              "      <th>2</th>\n",
              "      <td>2</td>\n",
              "      <td>1</td>\n",
              "      <td>female</td>\n",
              "      <td>30.000000</td>\n",
              "      <td>1</td>\n",
              "      <td>0</td>\n",
              "      <td>13.8583</td>\n",
              "      <td>C</td>\n",
              "    </tr>\n",
              "    <tr>\n",
              "      <th>3</th>\n",
              "      <td>3</td>\n",
              "      <td>0</td>\n",
              "      <td>male</td>\n",
              "      <td>30.231444</td>\n",
              "      <td>0</td>\n",
              "      <td>0</td>\n",
              "      <td>7.7250</td>\n",
              "      <td>Q</td>\n",
              "    </tr>\n",
              "    <tr>\n",
              "      <th>4</th>\n",
              "      <td>3</td>\n",
              "      <td>1</td>\n",
              "      <td>female</td>\n",
              "      <td>22.000000</td>\n",
              "      <td>0</td>\n",
              "      <td>0</td>\n",
              "      <td>7.7250</td>\n",
              "      <td>Q</td>\n",
              "    </tr>\n",
              "  </tbody>\n",
              "</table>\n",
              "</div>"
            ],
            "text/plain": [
              "   pclass  survived     sex        age  sibsp  parch     fare embarked\n",
              "0       2         1  female  13.000000      0      1  19.5000        S\n",
              "1       2         1  female   4.000000      1      1  23.0000        S\n",
              "2       2         1  female  30.000000      1      0  13.8583        C\n",
              "3       3         0    male  30.231444      0      0   7.7250        Q\n",
              "4       3         1  female  22.000000      0      0   7.7250        Q"
            ]
          },
          "metadata": {},
          "execution_count": 27
        }
      ]
    },
    {
      "cell_type": "code",
      "metadata": {
        "colab": {
          "base_uri": "https://localhost:8080/",
          "height": 206
        },
        "id": "xC0S8iIXTNji",
        "outputId": "ed83ac1c-b2f2-40de-bbaa-ec1896c225f2"
      },
      "source": [
        "data_df.head()"
      ],
      "execution_count": null,
      "outputs": [
        {
          "output_type": "execute_result",
          "data": {
            "text/html": [
              "<div>\n",
              "<style scoped>\n",
              "    .dataframe tbody tr th:only-of-type {\n",
              "        vertical-align: middle;\n",
              "    }\n",
              "\n",
              "    .dataframe tbody tr th {\n",
              "        vertical-align: top;\n",
              "    }\n",
              "\n",
              "    .dataframe thead th {\n",
              "        text-align: right;\n",
              "    }\n",
              "</style>\n",
              "<table border=\"1\" class=\"dataframe\">\n",
              "  <thead>\n",
              "    <tr style=\"text-align: right;\">\n",
              "      <th></th>\n",
              "      <th>pclass</th>\n",
              "      <th>survived</th>\n",
              "      <th>sex</th>\n",
              "      <th>age</th>\n",
              "      <th>sibsp</th>\n",
              "      <th>parch</th>\n",
              "      <th>fare</th>\n",
              "      <th>embarked</th>\n",
              "    </tr>\n",
              "  </thead>\n",
              "  <tbody>\n",
              "    <tr>\n",
              "      <th>0</th>\n",
              "      <td>2</td>\n",
              "      <td>1</td>\n",
              "      <td>female</td>\n",
              "      <td>13.000000</td>\n",
              "      <td>0</td>\n",
              "      <td>1</td>\n",
              "      <td>19.5000</td>\n",
              "      <td>S</td>\n",
              "    </tr>\n",
              "    <tr>\n",
              "      <th>1</th>\n",
              "      <td>2</td>\n",
              "      <td>1</td>\n",
              "      <td>female</td>\n",
              "      <td>4.000000</td>\n",
              "      <td>1</td>\n",
              "      <td>1</td>\n",
              "      <td>23.0000</td>\n",
              "      <td>S</td>\n",
              "    </tr>\n",
              "    <tr>\n",
              "      <th>2</th>\n",
              "      <td>2</td>\n",
              "      <td>1</td>\n",
              "      <td>female</td>\n",
              "      <td>30.000000</td>\n",
              "      <td>1</td>\n",
              "      <td>0</td>\n",
              "      <td>13.8583</td>\n",
              "      <td>C</td>\n",
              "    </tr>\n",
              "    <tr>\n",
              "      <th>3</th>\n",
              "      <td>3</td>\n",
              "      <td>0</td>\n",
              "      <td>male</td>\n",
              "      <td>30.231444</td>\n",
              "      <td>0</td>\n",
              "      <td>0</td>\n",
              "      <td>7.7250</td>\n",
              "      <td>Q</td>\n",
              "    </tr>\n",
              "    <tr>\n",
              "      <th>4</th>\n",
              "      <td>3</td>\n",
              "      <td>1</td>\n",
              "      <td>female</td>\n",
              "      <td>22.000000</td>\n",
              "      <td>0</td>\n",
              "      <td>0</td>\n",
              "      <td>7.7250</td>\n",
              "      <td>Q</td>\n",
              "    </tr>\n",
              "  </tbody>\n",
              "</table>\n",
              "</div>"
            ],
            "text/plain": [
              "   pclass  survived     sex        age  sibsp  parch     fare embarked\n",
              "0       2         1  female  13.000000      0      1  19.5000        S\n",
              "1       2         1  female   4.000000      1      1  23.0000        S\n",
              "2       2         1  female  30.000000      1      0  13.8583        C\n",
              "3       3         0    male  30.231444      0      0   7.7250        Q\n",
              "4       3         1  female  22.000000      0      0   7.7250        Q"
            ]
          },
          "metadata": {},
          "execution_count": 28
        }
      ]
    },
    {
      "cell_type": "code",
      "metadata": {
        "colab": {
          "base_uri": "https://localhost:8080/",
          "height": 206
        },
        "id": "MTP0MLHDQdsL",
        "outputId": "dd127170-338a-4a1e-e5f6-689b8758c3bf"
      },
      "source": [
        "encoded_data_df = pd.get_dummies(data_df)\n",
        "encoded_data_df.head()"
      ],
      "execution_count": null,
      "outputs": [
        {
          "output_type": "execute_result",
          "data": {
            "text/html": [
              "<div>\n",
              "<style scoped>\n",
              "    .dataframe tbody tr th:only-of-type {\n",
              "        vertical-align: middle;\n",
              "    }\n",
              "\n",
              "    .dataframe tbody tr th {\n",
              "        vertical-align: top;\n",
              "    }\n",
              "\n",
              "    .dataframe thead th {\n",
              "        text-align: right;\n",
              "    }\n",
              "</style>\n",
              "<table border=\"1\" class=\"dataframe\">\n",
              "  <thead>\n",
              "    <tr style=\"text-align: right;\">\n",
              "      <th></th>\n",
              "      <th>pclass</th>\n",
              "      <th>survived</th>\n",
              "      <th>age</th>\n",
              "      <th>sibsp</th>\n",
              "      <th>parch</th>\n",
              "      <th>fare</th>\n",
              "      <th>sex_female</th>\n",
              "      <th>sex_male</th>\n",
              "      <th>embarked_C</th>\n",
              "      <th>embarked_Q</th>\n",
              "      <th>embarked_S</th>\n",
              "    </tr>\n",
              "  </thead>\n",
              "  <tbody>\n",
              "    <tr>\n",
              "      <th>0</th>\n",
              "      <td>2</td>\n",
              "      <td>1</td>\n",
              "      <td>13.000000</td>\n",
              "      <td>0</td>\n",
              "      <td>1</td>\n",
              "      <td>19.5000</td>\n",
              "      <td>1</td>\n",
              "      <td>0</td>\n",
              "      <td>0</td>\n",
              "      <td>0</td>\n",
              "      <td>1</td>\n",
              "    </tr>\n",
              "    <tr>\n",
              "      <th>1</th>\n",
              "      <td>2</td>\n",
              "      <td>1</td>\n",
              "      <td>4.000000</td>\n",
              "      <td>1</td>\n",
              "      <td>1</td>\n",
              "      <td>23.0000</td>\n",
              "      <td>1</td>\n",
              "      <td>0</td>\n",
              "      <td>0</td>\n",
              "      <td>0</td>\n",
              "      <td>1</td>\n",
              "    </tr>\n",
              "    <tr>\n",
              "      <th>2</th>\n",
              "      <td>2</td>\n",
              "      <td>1</td>\n",
              "      <td>30.000000</td>\n",
              "      <td>1</td>\n",
              "      <td>0</td>\n",
              "      <td>13.8583</td>\n",
              "      <td>1</td>\n",
              "      <td>0</td>\n",
              "      <td>1</td>\n",
              "      <td>0</td>\n",
              "      <td>0</td>\n",
              "    </tr>\n",
              "    <tr>\n",
              "      <th>3</th>\n",
              "      <td>3</td>\n",
              "      <td>0</td>\n",
              "      <td>30.231444</td>\n",
              "      <td>0</td>\n",
              "      <td>0</td>\n",
              "      <td>7.7250</td>\n",
              "      <td>0</td>\n",
              "      <td>1</td>\n",
              "      <td>0</td>\n",
              "      <td>1</td>\n",
              "      <td>0</td>\n",
              "    </tr>\n",
              "    <tr>\n",
              "      <th>4</th>\n",
              "      <td>3</td>\n",
              "      <td>1</td>\n",
              "      <td>22.000000</td>\n",
              "      <td>0</td>\n",
              "      <td>0</td>\n",
              "      <td>7.7250</td>\n",
              "      <td>1</td>\n",
              "      <td>0</td>\n",
              "      <td>0</td>\n",
              "      <td>1</td>\n",
              "      <td>0</td>\n",
              "    </tr>\n",
              "  </tbody>\n",
              "</table>\n",
              "</div>"
            ],
            "text/plain": [
              "   pclass  survived        age  ...  embarked_C  embarked_Q  embarked_S\n",
              "0       2         1  13.000000  ...           0           0           1\n",
              "1       2         1   4.000000  ...           0           0           1\n",
              "2       2         1  30.000000  ...           1           0           0\n",
              "3       3         0  30.231444  ...           0           1           0\n",
              "4       3         1  22.000000  ...           0           1           0\n",
              "\n",
              "[5 rows x 11 columns]"
            ]
          },
          "metadata": {},
          "execution_count": 29
        }
      ]
    },
    {
      "cell_type": "code",
      "metadata": {
        "id": "bbSwebObQNCN"
      },
      "source": [
        "train_df = encoded_data_df[:train_num]\n",
        "test_df = encoded_data_df[train_num:]"
      ],
      "execution_count": null,
      "outputs": []
    },
    {
      "cell_type": "code",
      "metadata": {
        "colab": {
          "base_uri": "https://localhost:8080/"
        },
        "id": "YFEvfcEdTiKo",
        "outputId": "5e763b47-e46d-49cc-cf99-5e490f7ecd31"
      },
      "source": [
        "test_df.info()"
      ],
      "execution_count": null,
      "outputs": [
        {
          "output_type": "stream",
          "name": "stdout",
          "text": [
            "<class 'pandas.core.frame.DataFrame'>\n",
            "Int64Index: 393 entries, 0 to 392\n",
            "Data columns (total 11 columns):\n",
            " #   Column      Non-Null Count  Dtype  \n",
            "---  ------      --------------  -----  \n",
            " 0   pclass      393 non-null    int64  \n",
            " 1   survived    393 non-null    int64  \n",
            " 2   age         393 non-null    float64\n",
            " 3   sibsp       393 non-null    int64  \n",
            " 4   parch       393 non-null    int64  \n",
            " 5   fare        393 non-null    float64\n",
            " 6   sex_female  393 non-null    uint8  \n",
            " 7   sex_male    393 non-null    uint8  \n",
            " 8   embarked_C  393 non-null    uint8  \n",
            " 9   embarked_Q  393 non-null    uint8  \n",
            " 10  embarked_S  393 non-null    uint8  \n",
            "dtypes: float64(2), int64(4), uint8(5)\n",
            "memory usage: 23.4 KB\n"
          ]
        }
      ]
    },
    {
      "cell_type": "markdown",
      "metadata": {
        "id": "bBTjGh13TkqW"
      },
      "source": [
        "## 로지스틱 **회귀**\n",
        "- 선형 회귀식을 훈련하는 **분류** 모델\n",
        "  **$$z = ax_1+bx_2+cx_3+dx_4+ex_5+f$$**\n",
        "  - 계수(가중치), 절편\n",
        "  - 함수의 범위는 **-무한 ~ 무한**\n",
        "- 시그모이드 함수를 통해 선형 회귀식의 출력을 0~1 값으로 제한하여 **0.5보다 크거나 같으면 1, 0.5보다 작으면 0으로 분류**\n",
        "- 가중치(계수) 분석을 통해 피처의 영향력 해석이 용이함\n"
      ]
    },
    {
      "cell_type": "markdown",
      "metadata": {
        "id": "r4e7hKWUVDH-"
      },
      "source": [
        "지도 학습을 위한 훈련 데이터 구성\n",
        "- 훈련 데이터 (X, y)\n",
        "  - **입력 데이터**와 **타겟**으로 구성된 지도 학습\n",
        "모델에 사용하는 데이터\n",
        "  - 입력 데이터(x)\n",
        "    - 각 데이터 샘플을 나타내는 피처로 구성\n",
        "    - **2차원 배열**로 저장 (샘플수, 특성수)\n",
        "  -타겟(정답)(y)\n",
        "    - 각 데이터 샘플이 속하는 클래스(또는 라벨)\n",
        "    - **1차원 배열**로 저장 (샘플수,)\n",
        "-타이타닉 데이터는 입력과 타겟이 섞여있기 때문에\n",
        "분리하는 별도 작업이 필요함"
      ]
    },
    {
      "cell_type": "code",
      "metadata": {
        "colab": {
          "base_uri": "https://localhost:8080/"
        },
        "id": "lhdPvUrKVg2a",
        "outputId": "0a4c9f53-f094-4739-faff-a4d3927fd39f"
      },
      "source": [
        "train_df.loc[:,'survived'].values.shape # 1차원 배열"
      ],
      "execution_count": null,
      "outputs": [
        {
          "output_type": "execute_result",
          "data": {
            "text/plain": [
              "(916,)"
            ]
          },
          "metadata": {},
          "execution_count": 32
        }
      ]
    },
    {
      "cell_type": "code",
      "metadata": {
        "colab": {
          "base_uri": "https://localhost:8080/"
        },
        "id": "ccfDkCd5Vz-T",
        "outputId": "8fffbea3-bc55-4085-c962-9a1183ddfce7"
      },
      "source": [
        "train_df.loc[:,train_df.columns!='survived'].values.shape # 2차원 배열"
      ],
      "execution_count": null,
      "outputs": [
        {
          "output_type": "execute_result",
          "data": {
            "text/plain": [
              "(916, 10)"
            ]
          },
          "metadata": {},
          "execution_count": 33
        }
      ]
    },
    {
      "cell_type": "code",
      "metadata": {
        "id": "yIBXG6AnWDBM"
      },
      "source": [
        "y_train = train_df.loc[:,'survived'].values"
      ],
      "execution_count": null,
      "outputs": []
    },
    {
      "cell_type": "code",
      "metadata": {
        "id": "AG-DPmrrWOJ0"
      },
      "source": [
        "x_train = train_df.loc[:,train_df.columns!='survived'].values"
      ],
      "execution_count": null,
      "outputs": []
    },
    {
      "cell_type": "code",
      "metadata": {
        "colab": {
          "base_uri": "https://localhost:8080/"
        },
        "id": "BVSESfrMWVTR",
        "outputId": "954a4d7c-301c-4cba-c96f-11e7b4edeb4b"
      },
      "source": [
        "x_test = test_df.loc[:,test_df.columns!='survived'].values\n",
        "x_test.shape"
      ],
      "execution_count": null,
      "outputs": [
        {
          "output_type": "execute_result",
          "data": {
            "text/plain": [
              "(393, 10)"
            ]
          },
          "metadata": {},
          "execution_count": 36
        }
      ]
    },
    {
      "cell_type": "code",
      "metadata": {
        "colab": {
          "base_uri": "https://localhost:8080/"
        },
        "id": "6-w5PDe-XAtH",
        "outputId": "bc6d0bbe-8f68-4ddb-d767-6748e1375648"
      },
      "source": [
        "y_test = test_df.loc[:,'survived'].values\n",
        "y_test.shape"
      ],
      "execution_count": null,
      "outputs": [
        {
          "output_type": "execute_result",
          "data": {
            "text/plain": [
              "(393,)"
            ]
          },
          "metadata": {},
          "execution_count": 37
        }
      ]
    },
    {
      "cell_type": "markdown",
      "metadata": {
        "id": "m-5Hlmw8XN39"
      },
      "source": [
        "## 로지스틱 회귀 분류 모델 구현\n",
        "- LogisticRegression 클래스\n",
        "  - sklearn.linear_model 패키지\n",
        "  - random_state=None\n",
        "  - fit() 메서드\n",
        "    - 모델을 훈련\n",
        "  - predict() 메서드\n",
        "    - 모델이 예측한 클래스 값 반환\n",
        "  - predict_proba() 메서드\n",
        "    - 모델이 예측한 클래스 별 확률\n",
        "  - score() 메서드\n",
        "    - 입력 데이터의 예측값과 정답을 비교한 정확도를 반환"
      ]
    },
    {
      "cell_type": "code",
      "metadata": {
        "colab": {
          "base_uri": "https://localhost:8080/"
        },
        "id": "TDji8mOcXcq9",
        "outputId": "b29ff7f6-d890-4c13-9899-d26404c7e6d6"
      },
      "source": [
        "from sklearn.linear_model import LogisticRegression\n",
        "\n",
        "lr = LogisticRegression(random_state=0)\n",
        "lr.fit(x_train, y_train)"
      ],
      "execution_count": null,
      "outputs": [
        {
          "output_type": "execute_result",
          "data": {
            "text/plain": [
              "LogisticRegression(random_state=0)"
            ]
          },
          "metadata": {},
          "execution_count": 38
        }
      ]
    },
    {
      "cell_type": "code",
      "metadata": {
        "id": "1lkHOlnXX5Lp"
      },
      "source": [
        "y_pred = lr.predict(x_test)"
      ],
      "execution_count": null,
      "outputs": []
    },
    {
      "cell_type": "code",
      "metadata": {
        "colab": {
          "base_uri": "https://localhost:8080/"
        },
        "id": "SIU5hfCKXzgY",
        "outputId": "3b5044ea-102a-45c1-abdf-ba724cb613f3"
      },
      "source": [
        "print(x_test[:10])"
      ],
      "execution_count": null,
      "outputs": [
        {
          "output_type": "stream",
          "name": "stdout",
          "text": [
            "[[ 3.         38.          0.          0.          7.8958      0.\n",
            "   1.          0.          0.          1.        ]\n",
            " [ 2.         21.          0.          1.         21.          1.\n",
            "   0.          0.          0.          1.        ]\n",
            " [ 2.         42.          1.          0.         27.          0.\n",
            "   1.          0.          0.          1.        ]\n",
            " [ 3.         30.23144399  0.          0.         14.5         0.\n",
            "   1.          0.          0.          1.        ]\n",
            " [ 2.         25.          0.          0.         31.5         0.\n",
            "   1.          0.          0.          1.        ]\n",
            " [ 3.          4.          1.          1.         16.7         1.\n",
            "   0.          0.          0.          1.        ]\n",
            " [ 1.         48.          0.          0.         26.55        0.\n",
            "   1.          0.          0.          1.        ]\n",
            " [ 1.         52.          0.          0.         30.5         0.\n",
            "   1.          0.          0.          1.        ]\n",
            " [ 2.         57.          0.          0.         13.          0.\n",
            "   1.          0.          0.          1.        ]\n",
            " [ 3.         30.23144399  0.          0.          8.1125      0.\n",
            "   1.          0.          0.          1.        ]]\n"
          ]
        }
      ]
    },
    {
      "cell_type": "code",
      "metadata": {
        "colab": {
          "base_uri": "https://localhost:8080/"
        },
        "id": "EhihWAhOVoJo",
        "outputId": "deb6dcf0-9ae2-48ec-9354-530fe9e0e089"
      },
      "source": [
        "print(y_test[:10])\n",
        "print(y_pred[:10])"
      ],
      "execution_count": null,
      "outputs": [
        {
          "output_type": "stream",
          "name": "stdout",
          "text": [
            "[0 1 0 0 0 1 1 1 0 1]\n",
            "[0 1 0 0 0 1 0 0 0 0]\n"
          ]
        }
      ]
    },
    {
      "cell_type": "code",
      "metadata": {
        "colab": {
          "base_uri": "https://localhost:8080/"
        },
        "id": "qyEukUzFVQd2",
        "outputId": "e4769ffd-8c32-48d0-9d92-d05418d6122a"
      },
      "source": [
        "y_pred_proba = lr.predict_proba(x_test)[:,1]\n",
        "y_pred_proba[:10]"
      ],
      "execution_count": null,
      "outputs": [
        {
          "output_type": "execute_result",
          "data": {
            "text/plain": [
              "array([0.0832119 , 0.8305405 , 0.12086608, 0.10316494, 0.24841178,\n",
              "       0.69858129, 0.28677684, 0.26362213, 0.11143508, 0.10269438])"
            ]
          },
          "metadata": {},
          "execution_count": 42
        }
      ]
    },
    {
      "cell_type": "code",
      "metadata": {
        "colab": {
          "base_uri": "https://localhost:8080/"
        },
        "id": "FvIENtdwbIop",
        "outputId": "c102b971-4b99-419e-db9f-a14ea2957976"
      },
      "source": [
        "lr.score(x_test,y_test)"
      ],
      "execution_count": null,
      "outputs": [
        {
          "output_type": "execute_result",
          "data": {
            "text/plain": [
              "0.7964376590330788"
            ]
          },
          "metadata": {},
          "execution_count": 43
        }
      ]
    },
    {
      "cell_type": "markdown",
      "metadata": {
        "id": "gJTg7hZzbMHt"
      },
      "source": [
        "## 결정 트리\n",
        "- 의사 결정 나무 트리 모델\n",
        "- 조건 분기에 따라 데이터를 분류하는 모델\n",
        "- 데이터를 잘 나눌 수 있는 조건을 추가하여 분류 정확도를 높임\n",
        "  - 스무고개와 같이 질문을 하나씩 던져서 정답을 "
      ]
    },
    {
      "cell_type": "markdown",
      "metadata": {
        "id": "-RS9Knn3baod"
      },
      "source": [
        "## 결정 트리 분류 모델 구현\n",
        "- DecisionTreeClassifier 클래스\n",
        "  - sklearn.tree 패키지\n",
        "  - random_state=None\n",
        "  - fit() 메서드\n",
        "    - 모델을 훈련\n",
        "  - predict() 메서드\n",
        "    - 모델이 예측한 클래스 값 반환\n",
        "  - score() 메서드\n",
        "    - 입력 데이터의 예측값과 정답을 비교한 정확도를 반환"
      ]
    },
    {
      "cell_type": "code",
      "metadata": {
        "colab": {
          "base_uri": "https://localhost:8080/"
        },
        "id": "VLc24uDJbmkO",
        "outputId": "5034957e-a3be-4b73-e0bc-f65370c594e4"
      },
      "source": [
        "from sklearn.tree import  DecisionTreeClassifier\n",
        "\n",
        "dt  = LogisticRegression(random_state=0)\n",
        "dt.fit(x_train,y_train)\n",
        "\n"
      ],
      "execution_count": null,
      "outputs": [
        {
          "output_type": "execute_result",
          "data": {
            "text/plain": [
              "LogisticRegression(random_state=0)"
            ]
          },
          "metadata": {},
          "execution_count": 44
        }
      ]
    },
    {
      "cell_type": "code",
      "metadata": {
        "colab": {
          "base_uri": "https://localhost:8080/"
        },
        "id": "Omrd8yY5b2NI",
        "outputId": "bd1bf943-e837-4c70-b78f-3d96e8222c35"
      },
      "source": [
        "x_pred = dt.predict(x_test)\n",
        "print(y_test[:10])\n",
        "print(y_pred[:10])"
      ],
      "execution_count": null,
      "outputs": [
        {
          "output_type": "stream",
          "name": "stdout",
          "text": [
            "[0 1 0 0 0 1 1 1 0 1]\n",
            "[0 1 0 0 0 1 0 0 0 0]\n"
          ]
        }
      ]
    },
    {
      "cell_type": "code",
      "metadata": {
        "colab": {
          "base_uri": "https://localhost:8080/"
        },
        "id": "ePwhUyJfcMpc",
        "outputId": "4edc7b4e-2a74-4c36-8adb-accb57ea3599"
      },
      "source": [
        "dt.score(x_test,y_test)"
      ],
      "execution_count": null,
      "outputs": [
        {
          "output_type": "execute_result",
          "data": {
            "text/plain": [
              "0.7964376590330788"
            ]
          },
          "metadata": {},
          "execution_count": 46
        }
      ]
    },
    {
      "cell_type": "markdown",
      "metadata": {
        "id": "wCsVAd2ZcTr0"
      },
      "source": [
        "## 핵심 클래스와 메서드, 함수\n",
        "- pandas 라이브러리\n",
        "  - DataFrame.drop()\n",
        "  - Series.fillna()\n",
        "- seaborn 라이브러리\n",
        "  - countplot()\n",
        "- sklearn 라이브러리\n",
        "  - linear_model.LogisticRegression\n",
        "  - tree.DecisionTreeClassifier\n",
        "    - fit()\n",
        "    - predict()\n",
        "    - score()"
      ]
    },
    {
      "cell_type": "markdown",
      "metadata": {
        "id": "ggi4ruF1dgpP"
      },
      "source": [
        "## 분류 모델의 평가\n",
        "- 오차 행렬Confusion Matrix\n",
        "  - Predicted Class : 모델이 예측하여 분류한 결과 (P/N)\n",
        "  - Actual Class : 실제 데이터의 타겟 (P/N)\n",
        "  - TPTrue Postives : 1인 값을 1이라 예측한 경우\n",
        "    - 관심 범주를 정확하게 분류한 것\n",
        "  - FNFalse Negatives : 1인 값을 0이라 예측한 경우\n",
        "    - 관심 범주가 아닌 것으로 잘못 분류한 것\n",
        "  - FPFalse Postives : 0인 값을 1이라 예측한 경우\n",
        "    - 관심 범주라고 분류한 것이 잘못된 것\n",
        "  - TNTrue Negatives : 0인 값을 0이라 예측한 경우\n",
        "    - 관심 범주가 아니라는 것을 정확하게 분류한 것"
      ]
    },
    {
      "cell_type": "markdown",
      "metadata": {
        "id": "a2aSHW_2eUZC"
      },
      "source": [
        "## 분류 모델의 성능 평가\n",
        "- confusion_matrix(y_true, y_pred)함수\n",
        "  - sklearn.metrics 패키지에 포함\n",
        "  - y_true : 실제 타겟 값\n",
        "  - y_pred: 예측 타겟 값"
      ]
    },
    {
      "cell_type": "code",
      "metadata": {
        "colab": {
          "base_uri": "https://localhost:8080/"
        },
        "id": "19N5AHlfevR3",
        "outputId": "b79e6a4f-b6f4-4f3b-b535-76e7bb45378c"
      },
      "source": [
        "from sklearn.metrics import confusion_matrix\n",
        "\n",
        "confmat = confusion_matrix(y_true=y_test,y_pred=y_pred)\n",
        "confmat"
      ],
      "execution_count": null,
      "outputs": [
        {
          "output_type": "execute_result",
          "data": {
            "text/plain": [
              "array([[214,  32],\n",
              "       [ 48,  99]])"
            ]
          },
          "metadata": {},
          "execution_count": 47
        }
      ]
    },
    {
      "cell_type": "markdown",
      "metadata": {
        "id": "czzu2xbhdxUV"
      },
      "source": [
        "## 분류 모델의 성능 평가\n",
        "- 정확도Accuracy\n",
        "  - 𝐴𝑐𝑐𝑢𝑟𝑎𝑐𝑦 =\n",
        "𝑇𝑃+𝑇𝑁/𝑇𝑃+𝑇𝑁+𝐹𝑃+𝐹𝑁\n",
        "- 정밀도Precision\n",
        "  - 𝑃𝑟𝑒𝑐𝑖𝑠𝑖𝑜𝑛 =\n",
        "𝑇𝑃/𝑇𝑃+𝐹𝑃\n",
        "- 재현율Recall\n",
        "- 𝑅𝑒𝑐𝑎𝑙𝑙 =𝑇𝑃/𝑇𝑃+𝐹𝑁\n",
        "- F1-score\n",
        "  - 𝐹1 =2∙𝑝𝑟𝑒𝑐𝑖𝑠𝑖𝑜𝑛∙𝑟𝑒𝑐𝑎𝑙𝑙/𝑝𝑟𝑒𝑐𝑖𝑠𝑖𝑜𝑛+𝑟𝑒𝑐𝑎𝑙𝑙"
      ]
    },
    {
      "cell_type": "markdown",
      "metadata": {
        "id": "9J5GUzHxfp5i"
      },
      "source": [
        "## 분류 모델의 성능 평가\n",
        "- accuracy_score(y_true, y_pred) 함수\n",
        "- precision_score(y_true, y_pred) 함수\n",
        "- recall_score(y_true, y_pred) 함수\n",
        "- f1_score(y_true, y_pred) 함수\n",
        "  - sklearn.metrics 모듈에 포함\n",
        "  - y_true : 실제 타겟 값\n",
        "  - y_pred : 예측 타겟 값"
      ]
    },
    {
      "cell_type": "code",
      "metadata": {
        "colab": {
          "base_uri": "https://localhost:8080/"
        },
        "id": "xnpe1AHofzR7",
        "outputId": "4b54054a-34f1-464b-e161-890950ba27c3"
      },
      "source": [
        "from sklearn.metrics import accuracy_score,f1_score,precision_score,recall_score\n",
        "\n",
        "print(accuracy_score(y_true=y_test, y_pred=y_pred))\n",
        "print(precision_score(y_true=y_test, y_pred=y_pred))\n",
        "print(f1_score(y_true=y_test, y_pred=y_pred))\n",
        "print(recall_score(y_true=y_test, y_pred=y_pred))\n"
      ],
      "execution_count": null,
      "outputs": [
        {
          "output_type": "stream",
          "name": "stdout",
          "text": [
            "0.7964376590330788\n",
            "0.7557251908396947\n",
            "0.712230215827338\n",
            "0.673469387755102\n"
          ]
        }
      ]
    },
    {
      "cell_type": "markdown",
      "metadata": {
        "id": "Il08A8kkfm47"
      },
      "source": [
        "## 분류 모델의 성능 평가\n",
        "- 민감도sensitivity\n",
        "  - 𝑆𝑒𝑛𝑠𝑖𝑡𝑖𝑣𝑖𝑡𝑦 =𝑇𝑃/𝑇𝑃+𝐹𝑁\n",
        "- 특이도Specificity\n",
        "  - 𝑆𝑝𝑒𝑐𝑖𝑓𝑖𝑐𝑖𝑡𝑦 =𝑇𝑁/𝑇𝑁+𝐹𝑃\n",
        "- ROC 곡선ROC curve; Receiver Operating Characteristic curve\n",
        "  - Threshold을 바꾸면서 FPR(=1-specificity)와 TPR(=sensitivity) 의 관계를 그려낸 곡선\n",
        "- AUC (Area Under Curve)\n",
        "  - ROC 곡선 아래 영역의 넓이로 1에 가까울 수록 좋은 모델"
      ]
    },
    {
      "cell_type": "markdown",
      "metadata": {
        "id": "HYJBwf4lgmOe"
      },
      "source": [
        "## 분류 모델의 평가 구현 (2)\n",
        "- roc_curve(y_true, y_score) 함수\n",
        "  - 이진 분류에서 ROC를 계산하여 반환\n",
        "    - (fpr, tpr, threshold)\n",
        "- auc_roc_curve(y_true, y_score) 함수\n",
        "  - ROC 곡선 아래 면적을 계산하여 반환\n",
        "  - y_true : 실제 타겟 값\n",
        "  - y_score : 예측 확률 값"
      ]
    },
    {
      "cell_type": "code",
      "metadata": {
        "colab": {
          "base_uri": "https://localhost:8080/"
        },
        "id": "YESoBecSg2Yg",
        "outputId": "4a27cfde-5e0c-4c89-c503-ff0013b8cbdc"
      },
      "source": [
        "from sklearn.metrics import roc_curve,roc_auc_score\n",
        "\n",
        "fpr,tpr,thres = roc_curve(y_test,y_pred_proba)\n",
        "\n",
        "(fpr,tpr,thres )"
      ],
      "execution_count": null,
      "outputs": [
        {
          "output_type": "execute_result",
          "data": {
            "text/plain": [
              "(array([0.        , 0.        , 0.        , 0.00406504, 0.00406504,\n",
              "        0.00813008, 0.00813008, 0.02439024, 0.02439024, 0.02845528,\n",
              "        0.02845528, 0.03252033, 0.03252033, 0.04065041, 0.04065041,\n",
              "        0.04878049, 0.05284553, 0.05284553, 0.06097561, 0.06097561,\n",
              "        0.08130081, 0.08130081, 0.09349593, 0.09349593, 0.09756098,\n",
              "        0.09756098, 0.10162602, 0.10162602, 0.1097561 , 0.11382114,\n",
              "        0.11382114, 0.11788618, 0.11788618, 0.1300813 , 0.1300813 ,\n",
              "        0.13821138, 0.13821138, 0.14634146, 0.14634146, 0.16666667,\n",
              "        0.16666667, 0.17479675, 0.17479675, 0.17886179, 0.17886179,\n",
              "        0.20325203, 0.20325203, 0.21138211, 0.21138211, 0.22357724,\n",
              "        0.22357724, 0.22764228, 0.22764228, 0.24390244, 0.24390244,\n",
              "        0.25203252, 0.25203252, 0.25609756, 0.29268293, 0.29268293,\n",
              "        0.30487805, 0.30894309, 0.31707317, 0.31707317, 0.35772358,\n",
              "        0.36585366, 0.37804878, 0.37804878, 0.38211382, 0.38211382,\n",
              "        0.40650407, 0.40650407, 0.41056911, 0.41056911, 0.42276423,\n",
              "        0.43902439, 0.46341463, 0.47154472, 0.47154472, 0.47560976,\n",
              "        0.47560976, 0.4796748 , 0.4796748 , 0.49593496, 0.50406504,\n",
              "        0.58130081, 0.58130081, 0.58943089, 0.58943089, 0.6097561 ,\n",
              "        0.62195122, 0.6300813 , 0.6504065 , 0.67073171, 0.75203252,\n",
              "        0.75203252, 0.76829268, 0.77235772, 0.79268293, 0.79268293,\n",
              "        0.80081301, 0.80894309, 0.81300813, 0.81300813, 0.82926829,\n",
              "        0.85365854, 0.85365854, 0.8699187 , 0.8699187 , 0.87398374,\n",
              "        0.87398374, 0.95528455, 0.95528455, 0.97154472, 0.97154472,\n",
              "        1.        ]),\n",
              " array([0.        , 0.00680272, 0.34013605, 0.34013605, 0.34693878,\n",
              "        0.34693878, 0.44897959, 0.44897959, 0.4829932 , 0.4829932 ,\n",
              "        0.51020408, 0.51020408, 0.52380952, 0.52380952, 0.53741497,\n",
              "        0.53741497, 0.54421769, 0.55102041, 0.55782313, 0.56462585,\n",
              "        0.56462585, 0.58503401, 0.58503401, 0.6122449 , 0.6122449 ,\n",
              "        0.62585034, 0.63265306, 0.65306122, 0.65306122, 0.65306122,\n",
              "        0.65986395, 0.65986395, 0.66666667, 0.66666667, 0.67346939,\n",
              "        0.67346939, 0.69387755, 0.69387755, 0.70068027, 0.70068027,\n",
              "        0.70748299, 0.70748299, 0.71428571, 0.71428571, 0.72789116,\n",
              "        0.72789116, 0.73469388, 0.73469388, 0.7414966 , 0.7414966 ,\n",
              "        0.76190476, 0.76190476, 0.76870748, 0.76870748, 0.78911565,\n",
              "        0.78911565, 0.80272109, 0.80952381, 0.80952381, 0.81632653,\n",
              "        0.81632653, 0.82312925, 0.82312925, 0.83673469, 0.83673469,\n",
              "        0.83673469, 0.83673469, 0.84353741, 0.84353741, 0.85034014,\n",
              "        0.85034014, 0.85714286, 0.85714286, 0.86394558, 0.86394558,\n",
              "        0.8707483 , 0.8707483 , 0.8707483 , 0.87755102, 0.87755102,\n",
              "        0.88435374, 0.88435374, 0.89115646, 0.89115646, 0.89115646,\n",
              "        0.89115646, 0.89795918, 0.89795918, 0.9047619 , 0.9047619 ,\n",
              "        0.9047619 , 0.9047619 , 0.9047619 , 0.91836735, 0.91836735,\n",
              "        0.92517007, 0.92517007, 0.93877551, 0.93877551, 0.94557823,\n",
              "        0.94557823, 0.94557823, 0.94557823, 0.95238095, 0.95238095,\n",
              "        0.95238095, 0.95918367, 0.95918367, 0.96598639, 0.96598639,\n",
              "        0.97959184, 0.97959184, 0.99319728, 0.99319728, 1.        ,\n",
              "        1.        ]),\n",
              " array([1.9620584 , 0.9620584 , 0.79768648, 0.78683591, 0.78656141,\n",
              "        0.78503735, 0.74151555, 0.72689913, 0.70841598, 0.70732909,\n",
              "        0.682383  , 0.68202552, 0.66787525, 0.65610745, 0.65517718,\n",
              "        0.65243792, 0.65239118, 0.65237309, 0.65236781, 0.65236252,\n",
              "        0.62792476, 0.62134708, 0.61824254, 0.60655333, 0.59833899,\n",
              "        0.56855537, 0.56686168, 0.54993336, 0.5495425 , 0.5486874 ,\n",
              "        0.54703929, 0.54683056, 0.54402422, 0.5112097 , 0.50959457,\n",
              "        0.49665368, 0.47717908, 0.47154783, 0.46689605, 0.42240678,\n",
              "        0.41351154, 0.4103578 , 0.40756153, 0.40739799, 0.40650242,\n",
              "        0.37556242, 0.37343768, 0.36929036, 0.36506778, 0.354161  ,\n",
              "        0.34042965, 0.33896583, 0.33631034, 0.32472137, 0.32220676,\n",
              "        0.31838021, 0.30823952, 0.30541905, 0.29275606, 0.28677684,\n",
              "        0.28030913, 0.27990692, 0.26902033, 0.26223401, 0.24289143,\n",
              "        0.24018183, 0.22581905, 0.22491868, 0.21909108, 0.21791249,\n",
              "        0.19297406, 0.18941007, 0.18509518, 0.17479704, 0.17004369,\n",
              "        0.16948806, 0.16948759, 0.16724924, 0.16607357, 0.16343899,\n",
              "        0.15957179, 0.15956421, 0.15673866, 0.14901497, 0.14849226,\n",
              "        0.13440417, 0.13439539, 0.13438599, 0.13291408, 0.130961  ,\n",
              "        0.12761525, 0.12760155, 0.12606489, 0.12600264, 0.11264456,\n",
              "        0.11183048, 0.10897063, 0.10630645, 0.10430762, 0.10343476,\n",
              "        0.10320924, 0.10316494, 0.1027385 , 0.10269438, 0.10268979,\n",
              "        0.10267845, 0.10267784, 0.10263099, 0.10261629, 0.10195415,\n",
              "        0.09715397, 0.07054844, 0.06552304, 0.0602298 , 0.05927309,\n",
              "        0.04467158]))"
            ]
          },
          "metadata": {},
          "execution_count": 49
        }
      ]
    },
    {
      "cell_type": "code",
      "metadata": {
        "colab": {
          "base_uri": "https://localhost:8080/",
          "height": 324
        },
        "id": "yd5yND7phIy_",
        "outputId": "56076be2-1f06-4d7c-ef99-a54b0e63333d"
      },
      "source": [
        "import matplotlib.pyplot as plt\n",
        "\n",
        "plt.figure(figsize=(5,5))\n",
        "plt.plot(fpr,tpr)\n",
        "plt.xlim([0,1.0])\n",
        "plt.ylim([0,1.0])\n",
        "plt.show()"
      ],
      "execution_count": null,
      "outputs": [
        {
          "output_type": "display_data",
          "data": {
            "image/png": "[encoded data removed]",
            "text/plain": [
              "<Figure size 360x360 with 1 Axes>"
            ]
          },
          "metadata": {
            "needs_background": "light"
          }
        }
      ]
    },
    {
      "cell_type": "markdown",
      "metadata": {
        "id": "4TY-Bp09haCv"
      },
      "source": [
        "## 분류 모델의 피처 영향력\n",
        "- 선형 회귀와 마찬가지로 선형 식의 계수의 크기로 피처 영향력을 확인할 수  "
      ]
    },
    {
      "cell_type": "code",
      "metadata": {
        "colab": {
          "base_uri": "https://localhost:8080/"
        },
        "id": "rv5nR46Eh62y",
        "outputId": "725ee74c-0cdd-47d2-ef43-fd18d5480c34"
      },
      "source": [
        "feature_name = encoded_data_df.columns.to_list()\n",
        "feature_name.remove('survived')\n",
        "feature_name "
      ],
      "execution_count": null,
      "outputs": [
        {
          "output_type": "execute_result",
          "data": {
            "text/plain": [
              "['pclass',\n",
              " 'age',\n",
              " 'sibsp',\n",
              " 'parch',\n",
              " 'fare',\n",
              " 'sex_female',\n",
              " 'sex_male',\n",
              " 'embarked_C',\n",
              " 'embarked_Q',\n",
              " 'embarked_S']"
            ]
          },
          "metadata": {},
          "execution_count": 51
        }
      ]
    },
    {
      "cell_type": "code",
      "metadata": {
        "colab": {
          "base_uri": "https://localhost:8080/",
          "height": 265
        },
        "id": "qMXz2bk7irhs",
        "outputId": "8db88685-7eec-4be9-cc7c-bd444fe6cd4b"
      },
      "source": [
        "plt.barh(feature_name,lr.coef_[0])\n",
        "plt.show()"
      ],
      "execution_count": null,
      "outputs": [
        {
          "output_type": "display_data",
          "data": {
            "image/png": "[encoded data removed]",
            "text/plain": [
              "<Figure size 432x288 with 1 Axes>"
            ]
          },
          "metadata": {
            "needs_background": "light"
          }
        }
      ]
    },
    {
      "cell_type": "markdown",
      "metadata": {
        "id": "Lc0Vkvh5iwAb"
      },
      "source": [
        "## Step3 모델 개선: 특성 공학\n"
      ]
    },
    {
      "cell_type": "markdown",
      "metadata": {
        "id": "p_w94zG7i7ao"
      },
      "source": [
        "## 분류 모델의 성능을 개선하는 방법\n",
        "1. 다른 분류 모델을 사용\n",
        "2. 많은 훈련 데이터를 사용\n",
        "3. 특성 공학feature engineering; 피쳐 엔지니어링\n",
        "  - 모델을 훈련시키는데 사용할 입력 데이터의 특성을 가공하여 분석하는 작업"
      ]
    },
    {
      "cell_type": "markdown",
      "metadata": {
        "id": "4_vwj4s_jGIW"
      },
      "source": [
        "## 분류 모델의 피처 영향력\n",
        "- 선형 회귀와 마찬가지로 선형 식의 계수의 크기로 피처 영향력을 확인할 수 있음"
      ]
    },
    {
      "cell_type": "markdown",
      "metadata": {
        "id": "rPWwH-AsjO5W"
      },
      "source": [
        "## 선실 정보와 승객 이름 활용하기\n",
        "- 원본 데이터에서 ticket, body, home.dest 정보만 삭제\n",
        "- 피처 age 결츢값 처리\n",
        "- 피처 embarked 결측값 처리"
      ]
    },
    {
      "cell_type": "code",
      "metadata": {
        "colab": {
          "base_uri": "https://localhost:8080/"
        },
        "id": "hx_yq5RbjdF9",
        "outputId": "9247cf78-8bad-41f0-ca02-e98e80f844b5"
      },
      "source": [
        "import pandas as pd\n",
        "\n",
        "train_df = pd.read_csv('./titanic_train.csv')\n",
        "test_df = pd.read_csv('./titanic_test.csv')\n",
        "\n",
        "data_df = train_df.append(test_df)\n",
        "train_num = len(train_df)\n",
        "\n",
        "data_df = train_df.append(test_df)\n",
        "train_num = len(train_df)\n",
        "\n",
        "data_df.drop(['ticket','body','home.dest'],axis=1,inplace=True)\n",
        "\n",
        "age_mean = data_df[data_df['age']>0]['age'].mean()\n",
        "data_df['age'] = data_df['age'].fillna(age_mean)\n",
        "\n",
        "embarked_mode = data_df['embarked'].value_counts().index[0]\n",
        "data_df['embarked'] = data_df['embarked'].fillna(embarked_mode)\n",
        "\n",
        "data_df.info()"
      ],
      "execution_count": null,
      "outputs": [
        {
          "output_type": "stream",
          "name": "stdout",
          "text": [
            "<class 'pandas.core.frame.DataFrame'>\n",
            "Int64Index: 1309 entries, 0 to 392\n",
            "Data columns (total 10 columns):\n",
            " #   Column    Non-Null Count  Dtype  \n",
            "---  ------    --------------  -----  \n",
            " 0   pclass    1309 non-null   int64  \n",
            " 1   survived  1309 non-null   int64  \n",
            " 2   name      1309 non-null   object \n",
            " 3   sex       1309 non-null   object \n",
            " 4   age       1309 non-null   float64\n",
            " 5   sibsp     1309 non-null   int64  \n",
            " 6   parch     1309 non-null   int64  \n",
            " 7   fare      1309 non-null   float64\n",
            " 8   cabin     295 non-null    object \n",
            " 9   embarked  1309 non-null   object \n",
            "dtypes: float64(2), int64(4), object(4)\n",
            "memory usage: 112.5+ KB\n"
          ]
        }
      ]
    },
    {
      "cell_type": "markdown",
      "metadata": {
        "id": "155jR8xIktF9"
      },
      "source": [
        "## 선실 정보 분석과 처리\n",
        "- cabin 피처는 선실 정보를 나타내며,\n",
        "선실을 대표하는 알파벳이 첫 글자에 등장\n",
        "하는 패턴을 가지고 있음\n",
        "  - 결측값이 많기 때문에 결측값을 ‘X’로\n",
        "채우고, cabin 피처의 첫 글자만 사용\n",
        "  - 빈도가 작은 ‘G’, ‘T’를 ‘X’로 대체"
      ]
    },
    {
      "cell_type": "code",
      "metadata": {
        "colab": {
          "base_uri": "https://localhost:8080/"
        },
        "id": "RmOWRWBKkyDg",
        "outputId": "5338cee4-b200-43dd-8921-f46c58be85cd"
      },
      "source": [
        "data_df['cabin'] = data_df['cabin'].fillna('X')\n",
        "data_df['cabin'].value_counts()"
      ],
      "execution_count": null,
      "outputs": [
        {
          "output_type": "execute_result",
          "data": {
            "text/plain": [
              "X                  1014\n",
              "C23 C25 C27           6\n",
              "B57 B59 B63 B66       5\n",
              "G6                    5\n",
              "F33                   4\n",
              "                   ... \n",
              "C95                   1\n",
              "D47                   1\n",
              "A20                   1\n",
              "B36                   1\n",
              "E39 E41               1\n",
              "Name: cabin, Length: 187, dtype: int64"
            ]
          },
          "metadata": {},
          "execution_count": 54
        }
      ]
    },
    {
      "cell_type": "code",
      "metadata": {
        "id": "8rxhXafZk3sW"
      },
      "source": [
        "data_df['cabin'] = data_df['cabin'].apply(lambda x:x[0])"
      ],
      "execution_count": null,
      "outputs": []
    },
    {
      "cell_type": "code",
      "metadata": {
        "colab": {
          "base_uri": "https://localhost:8080/"
        },
        "id": "Ji5KNhVqlLbq",
        "outputId": "71f7f455-c2ac-437a-c9c9-5deff15f7e95"
      },
      "source": [
        "data_df['cabin'].value_counts()"
      ],
      "execution_count": null,
      "outputs": [
        {
          "output_type": "execute_result",
          "data": {
            "text/plain": [
              "X    1014\n",
              "C      94\n",
              "B      65\n",
              "D      46\n",
              "E      41\n",
              "A      22\n",
              "F      21\n",
              "G       5\n",
              "T       1\n",
              "Name: cabin, dtype: int64"
            ]
          },
          "metadata": {},
          "execution_count": 56
        }
      ]
    },
    {
      "cell_type": "code",
      "metadata": {
        "id": "EhRm6AW3lPix"
      },
      "source": [
        "data_df['cabin'] = data_df['cabin'].replace({'G':'X','T':'X'})"
      ],
      "execution_count": null,
      "outputs": []
    },
    {
      "cell_type": "code",
      "metadata": {
        "colab": {
          "base_uri": "https://localhost:8080/"
        },
        "id": "i67UocCVlaPm",
        "outputId": "3b64df9e-2d24-4ed6-a652-8bbac6f3ccc3"
      },
      "source": [
        "data_df['cabin'].value_counts()"
      ],
      "execution_count": null,
      "outputs": [
        {
          "output_type": "execute_result",
          "data": {
            "text/plain": [
              "X    1020\n",
              "C      94\n",
              "B      65\n",
              "D      46\n",
              "E      41\n",
              "A      22\n",
              "F      21\n",
              "Name: cabin, dtype: int64"
            ]
          },
          "metadata": {},
          "execution_count": 58
        }
      ]
    },
    {
      "cell_type": "code",
      "metadata": {
        "colab": {
          "base_uri": "https://localhost:8080/",
          "height": 417
        },
        "id": "YA9LbNlOlcus",
        "outputId": "0834a514-4cd7-4269-b81f-49b036026127"
      },
      "source": [
        "data_df.head()"
      ],
      "execution_count": null,
      "outputs": [
        {
          "output_type": "execute_result",
          "data": {
            "text/html": [
              "<div>\n",
              "<style scoped>\n",
              "    .dataframe tbody tr th:only-of-type {\n",
              "        vertical-align: middle;\n",
              "    }\n",
              "\n",
              "    .dataframe tbody tr th {\n",
              "        vertical-align: top;\n",
              "    }\n",
              "\n",
              "    .dataframe thead th {\n",
              "        text-align: right;\n",
              "    }\n",
              "</style>\n",
              "<table border=\"1\" class=\"dataframe\">\n",
              "  <thead>\n",
              "    <tr style=\"text-align: right;\">\n",
              "      <th></th>\n",
              "      <th>pclass</th>\n",
              "      <th>survived</th>\n",
              "      <th>name</th>\n",
              "      <th>sex</th>\n",
              "      <th>age</th>\n",
              "      <th>sibsp</th>\n",
              "      <th>parch</th>\n",
              "      <th>fare</th>\n",
              "      <th>cabin</th>\n",
              "      <th>embarked</th>\n",
              "    </tr>\n",
              "  </thead>\n",
              "  <tbody>\n",
              "    <tr>\n",
              "      <th>0</th>\n",
              "      <td>2</td>\n",
              "      <td>1</td>\n",
              "      <td>Mellinger, Miss. Madeleine Violet</td>\n",
              "      <td>female</td>\n",
              "      <td>13.000000</td>\n",
              "      <td>0</td>\n",
              "      <td>1</td>\n",
              "      <td>19.5000</td>\n",
              "      <td>X</td>\n",
              "      <td>S</td>\n",
              "    </tr>\n",
              "    <tr>\n",
              "      <th>1</th>\n",
              "      <td>2</td>\n",
              "      <td>1</td>\n",
              "      <td>Wells, Miss. Joan</td>\n",
              "      <td>female</td>\n",
              "      <td>4.000000</td>\n",
              "      <td>1</td>\n",
              "      <td>1</td>\n",
              "      <td>23.0000</td>\n",
              "      <td>X</td>\n",
              "      <td>S</td>\n",
              "    </tr>\n",
              "    <tr>\n",
              "      <th>2</th>\n",
              "      <td>2</td>\n",
              "      <td>1</td>\n",
              "      <td>Duran y More, Miss. Florentina</td>\n",
              "      <td>female</td>\n",
              "      <td>30.000000</td>\n",
              "      <td>1</td>\n",
              "      <td>0</td>\n",
              "      <td>13.8583</td>\n",
              "      <td>X</td>\n",
              "      <td>C</td>\n",
              "    </tr>\n",
              "    <tr>\n",
              "      <th>3</th>\n",
              "      <td>3</td>\n",
              "      <td>0</td>\n",
              "      <td>Scanlan, Mr. James</td>\n",
              "      <td>male</td>\n",
              "      <td>29.881138</td>\n",
              "      <td>0</td>\n",
              "      <td>0</td>\n",
              "      <td>7.7250</td>\n",
              "      <td>X</td>\n",
              "      <td>Q</td>\n",
              "    </tr>\n",
              "    <tr>\n",
              "      <th>4</th>\n",
              "      <td>3</td>\n",
              "      <td>1</td>\n",
              "      <td>Bradley, Miss. Bridget Delia</td>\n",
              "      <td>female</td>\n",
              "      <td>22.000000</td>\n",
              "      <td>0</td>\n",
              "      <td>0</td>\n",
              "      <td>7.7250</td>\n",
              "      <td>X</td>\n",
              "      <td>Q</td>\n",
              "    </tr>\n",
              "  </tbody>\n",
              "</table>\n",
              "</div>"
            ],
            "text/plain": [
              "   pclass  survived                               name  ...     fare  cabin  embarked\n",
              "0       2         1  Mellinger, Miss. Madeleine Violet  ...  19.5000      X         S\n",
              "1       2         1                  Wells, Miss. Joan  ...  23.0000      X         S\n",
              "2       2         1     Duran y More, Miss. Florentina  ...  13.8583      X         C\n",
              "3       3         0                 Scanlan, Mr. James  ...   7.7250      X         Q\n",
              "4       3         1       Bradley, Miss. Bridget Delia  ...   7.7250      X         Q\n",
              "\n",
              "[5 rows x 10 columns]"
            ]
          },
          "metadata": {},
          "execution_count": 59
        }
      ]
    },
    {
      "cell_type": "code",
      "metadata": {
        "colab": {
          "base_uri": "https://localhost:8080/",
          "height": 279
        },
        "id": "OU_WW7tQltJ3",
        "outputId": "4ea6db79-c11a-4e5a-d785-0c5cf2b0ea23"
      },
      "source": [
        "import seaborn as sns\n",
        "\n",
        "sns.countplot(x='cabin',hue='survived',data=data_df)\n",
        "plt.show()"
      ],
      "execution_count": null,
      "outputs": [
        {
          "output_type": "display_data",
          "data": {
            "image/png": "[encoded data removed]",
            "text/plain": [
              "<Figure size 432x288 with 1 Axes>"
            ]
          },
          "metadata": {
            "needs_background": "light"
          }
        }
      ]
    },
    {
      "cell_type": "markdown",
      "metadata": {
        "id": "dStlTli6l3wM"
      },
      "source": [
        "## 승객 이름 정보 분석과 처리\n",
        "- 승객 이름에는 호칭과 경칭 정보가 존재\n",
        "  - {last name}, {titles}. {first name}\n",
        "- 호칭이나 경칭 정보만 분리하여 피처로 사용\n",
        "  - split() 함수"
      ]
    },
    {
      "cell_type": "code",
      "metadata": {
        "colab": {
          "base_uri": "https://localhost:8080/"
        },
        "id": "2ZwyNSoLmBM2",
        "outputId": "ef449110-264c-4219-f9be-6cf1653e0807"
      },
      "source": [
        "data_df['name']"
      ],
      "execution_count": null,
      "outputs": [
        {
          "output_type": "execute_result",
          "data": {
            "text/plain": [
              "0                 Mellinger, Miss. Madeleine Violet\n",
              "1                                 Wells, Miss. Joan\n",
              "2                    Duran y More, Miss. Florentina\n",
              "3                                Scanlan, Mr. James\n",
              "4                      Bradley, Miss. Bridget Delia\n",
              "                           ...                     \n",
              "388               Karlsson, Mr. Julius Konrad Eugen\n",
              "389    Ware, Mrs. John James (Florence Louise Long)\n",
              "390                            O'Keefe, Mr. Patrick\n",
              "391                                Tobin, Mr. Roger\n",
              "392                            Daniels, Miss. Sarah\n",
              "Name: name, Length: 1309, dtype: object"
            ]
          },
          "metadata": {},
          "execution_count": 61
        }
      ]
    },
    {
      "cell_type": "code",
      "metadata": {
        "colab": {
          "base_uri": "https://localhost:8080/"
        },
        "id": "YxVVpbozmF1Q",
        "outputId": "9bdd01ac-abee-47ab-aaea-8163eea49b6a"
      },
      "source": [
        "\"Mellinger,Miss.Medeleine Violet\".split(\",\")[1].split(\".\")"
      ],
      "execution_count": null,
      "outputs": [
        {
          "output_type": "execute_result",
          "data": {
            "text/plain": [
              "['Miss', 'Medeleine Violet']"
            ]
          },
          "metadata": {},
          "execution_count": 62
        }
      ]
    },
    {
      "cell_type": "code",
      "metadata": {
        "colab": {
          "base_uri": "https://localhost:8080/"
        },
        "id": "FE1ajqZfmaZg",
        "outputId": "16a69947-611c-4198-e963-72b1bafb2381"
      },
      "source": [
        "data_df['name'].apply(lambda x: x.split(\",\")[1].split(\".\")[0]).value_counts()"
      ],
      "execution_count": null,
      "outputs": [
        {
          "output_type": "execute_result",
          "data": {
            "text/plain": [
              " Mr              757\n",
              " Miss            260\n",
              " Mrs             197\n",
              " Master           61\n",
              " Rev               8\n",
              " Dr                8\n",
              " Col               4\n",
              " Mlle              2\n",
              " Major             2\n",
              " Ms                2\n",
              " Sir               1\n",
              " Capt              1\n",
              " Mme               1\n",
              " Don               1\n",
              " Dona              1\n",
              " Jonkheer          1\n",
              " Lady              1\n",
              " the Countess      1\n",
              "Name: name, dtype: int64"
            ]
          },
          "metadata": {},
          "execution_count": 63
        }
      ]
    },
    {
      "cell_type": "code",
      "metadata": {
        "id": "bYhOCiQ9mvBO"
      },
      "source": [
        "title_dict = {'A':['Ms','Mme','Mrs','Dona'],'B':['Miss','Mile','Lady'],\n",
        "               'C':['Mr','Don'],'D':['Master'],'E':['Jonkheer','the Countess'],\n",
        "               'F':['Rey','Col','Major','Dr','Capt','Sir']}\n",
        "def get_title(x):\n",
        "  title = x.split(\", \")[1].split(\".\")[0]\n",
        "  for key,value in title_dict.items():\n",
        "    for t in value:\n",
        "      if title == t:\n",
        "        return key\n",
        "  return 'X'"
      ],
      "execution_count": null,
      "outputs": []
    },
    {
      "cell_type": "code",
      "metadata": {
        "colab": {
          "base_uri": "https://localhost:8080/",
          "height": 35
        },
        "id": "IrrXubGBoIEj",
        "outputId": "4d6f6a24-b28d-4267-8d78-71837bfa42f9"
      },
      "source": [
        "get_title(\"Bradley, Miss. Bredget Delia\")"
      ],
      "execution_count": null,
      "outputs": [
        {
          "output_type": "execute_result",
          "data": {
            "application/vnd.google.colaboratory.intrinsic+json": {
              "type": "string"
            },
            "text/plain": [
              "'B'"
            ]
          },
          "metadata": {},
          "execution_count": 65
        }
      ]
    },
    {
      "cell_type": "markdown",
      "metadata": {
        "id": "wFDS9kNoniG5"
      },
      "source": [
        "## 승객 이름 정보 분석과 처리\n",
        "- 호칭을 6개의 그룹으로 그룹핑을 하여\n",
        "새로운 피처(title) 생성\n",
        "  - 여성(A), 젊은 여성(B), 남성(C), 젊은\n",
        "남성(D), 귀족(E), 명예직(F), N/A(X)\n",
        "- 호칭에 따른 생존 여부 시각화\n",
        "  - C그룹의 사망자가 다른 그룹에 비해\n",
        "많음\n",
        "  - 유의미한 피처일 가능성이 높음  "
      ]
    },
    {
      "cell_type": "code",
      "metadata": {
        "id": "y2FvvAIgmqX5"
      },
      "source": [
        "data_df['title']= data_df['name'].apply(lambda x: get_title(x))"
      ],
      "execution_count": null,
      "outputs": []
    },
    {
      "cell_type": "code",
      "metadata": {
        "colab": {
          "base_uri": "https://localhost:8080/"
        },
        "id": "7aR784reoizz",
        "outputId": "cc06196a-166b-4b4d-d598-fe959ccd2094"
      },
      "source": [
        "data_df['title'].value_counts()"
      ],
      "execution_count": null,
      "outputs": [
        {
          "output_type": "execute_result",
          "data": {
            "text/plain": [
              "C    758\n",
              "B    261\n",
              "A    201\n",
              "D     61\n",
              "F     16\n",
              "X     10\n",
              "E      2\n",
              "Name: title, dtype: int64"
            ]
          },
          "metadata": {},
          "execution_count": 67
        }
      ]
    },
    {
      "cell_type": "code",
      "metadata": {
        "colab": {
          "base_uri": "https://localhost:8080/",
          "height": 279
        },
        "id": "3Y8lulxJmX6k",
        "outputId": "0f0dd516-204a-41a8-a202-17b67ca05cba"
      },
      "source": [
        "sns.countplot(x='title',hue='survived',data=data_df)\n",
        "plt.show()"
      ],
      "execution_count": null,
      "outputs": [
        {
          "output_type": "display_data",
          "data": {
            "image/png": "[encoded data removed]",
            "text/plain": [
              "<Figure size 432x288 with 1 Axes>"
            ]
          },
          "metadata": {
            "needs_background": "light"
          }
        }
      ]
    },
    {
      "cell_type": "code",
      "metadata": {
        "id": "FhVHHN3ExzrL"
      },
      "source": [
        "data_df.drop(['name'],axis=1,inplace=True)"
      ],
      "execution_count": null,
      "outputs": []
    },
    {
      "cell_type": "code",
      "metadata": {
        "colab": {
          "base_uri": "https://localhost:8080/"
        },
        "id": "rY2ek4Qao4Sl",
        "outputId": "c7c1f1b7-f4f5-45f6-9f31-2782b5c3ab5f"
      },
      "source": [
        "encoded_data_df = pd.get_dummies(data_df)\n",
        "encoded_data_df.info()"
      ],
      "execution_count": null,
      "outputs": [
        {
          "output_type": "stream",
          "name": "stdout",
          "text": [
            "<class 'pandas.core.frame.DataFrame'>\n",
            "Int64Index: 1309 entries, 0 to 392\n",
            "Data columns (total 25 columns):\n",
            " #   Column      Non-Null Count  Dtype  \n",
            "---  ------      --------------  -----  \n",
            " 0   pclass      1309 non-null   int64  \n",
            " 1   survived    1309 non-null   int64  \n",
            " 2   age         1309 non-null   float64\n",
            " 3   sibsp       1309 non-null   int64  \n",
            " 4   parch       1309 non-null   int64  \n",
            " 5   fare        1309 non-null   float64\n",
            " 6   sex_female  1309 non-null   uint8  \n",
            " 7   sex_male    1309 non-null   uint8  \n",
            " 8   cabin_A     1309 non-null   uint8  \n",
            " 9   cabin_B     1309 non-null   uint8  \n",
            " 10  cabin_C     1309 non-null   uint8  \n",
            " 11  cabin_D     1309 non-null   uint8  \n",
            " 12  cabin_E     1309 non-null   uint8  \n",
            " 13  cabin_F     1309 non-null   uint8  \n",
            " 14  cabin_X     1309 non-null   uint8  \n",
            " 15  embarked_C  1309 non-null   uint8  \n",
            " 16  embarked_Q  1309 non-null   uint8  \n",
            " 17  embarked_S  1309 non-null   uint8  \n",
            " 18  title_A     1309 non-null   uint8  \n",
            " 19  title_B     1309 non-null   uint8  \n",
            " 20  title_C     1309 non-null   uint8  \n",
            " 21  title_D     1309 non-null   uint8  \n",
            " 22  title_E     1309 non-null   uint8  \n",
            " 23  title_F     1309 non-null   uint8  \n",
            " 24  title_X     1309 non-null   uint8  \n",
            "dtypes: float64(2), int64(4), uint8(19)\n",
            "memory usage: 135.9 KB\n"
          ]
        }
      ]
    },
    {
      "cell_type": "code",
      "metadata": {
        "id": "3rBjG7xppCSC"
      },
      "source": [
        "train_df = encoded_data_df[:train_num]\n",
        "test_df = encoded_data_df[train_num:]\n",
        "\n",
        "x_train = train_df.loc[:,train_df.columns!='survived'].values\n",
        "y_train = train_df.loc[:,'survived'].values\n",
        "\n",
        "x_test = test_df.loc[:,test_df.columns!='survived'].values\n",
        "y_test = test_df.loc[:,'survived'].values"
      ],
      "execution_count": null,
      "outputs": []
    },
    {
      "cell_type": "code",
      "metadata": {
        "colab": {
          "base_uri": "https://localhost:8080/"
        },
        "id": "d8jJVlWWqMdb",
        "outputId": "756eb2d0-934e-453f-b84b-9ca5d827de85"
      },
      "source": [
        "from sklearn.linear_model import  LogisticRegression\n",
        "\n",
        "lr = LogisticRegression(random_state=0)\n",
        "lr.fit(x_train,y_train)\n",
        "\n",
        "y_pred = lr.predict(x_test)\n",
        "y_pred_proba = lr.predict_proba(x_test)[:, 1]\n",
        "\n",
        "print(y_test[:10])\n",
        "print(y_pred[:10])\n",
        "print(y_pred_proba[:10])\n",
        "\n",
        "lr.score(x_test,y_test)"
      ],
      "execution_count": null,
      "outputs": [
        {
          "output_type": "stream",
          "name": "stdout",
          "text": [
            "[0 1 0 0 0 1 1 1 0 1]\n",
            "[0 1 0 0 0 1 0 0 0 0]\n",
            "[0.07849052 0.74489897 0.08071841 0.09330105 0.17116234 0.59475666\n",
            " 0.42885279 0.48699637 0.09104935 0.09175717]\n"
          ]
        },
        {
          "output_type": "execute_result",
          "data": {
            "text/plain": [
              "0.7989821882951654"
            ]
          },
          "metadata": {},
          "execution_count": 72
        }
      ]
    },
    {
      "cell_type": "code",
      "metadata": {
        "colab": {
          "base_uri": "https://localhost:8080/",
          "height": 265
        },
        "id": "WJFdcBVGqg9h",
        "outputId": "4ae40419-3e3c-4ce0-932a-df3c51721376"
      },
      "source": [
        "feature_names = encoded_data_df.columns.to_list()\n",
        "feature_names.remove('survived')\n",
        "\n",
        "plt.barh(feature_names,lr.coef_[0])\n",
        "plt.show()"
      ],
      "execution_count": null,
      "outputs": [
        {
          "output_type": "display_data",
          "data": {
            "image/png": "[encoded data removed]",
            "text/plain": [
              "<Figure size 432x288 with 1 Axes>"
            ]
          },
          "metadata": {
            "needs_background": "light"
          }
        }
      ]
    },
    {
      "cell_type": "code",
      "metadata": {
        "colab": {
          "base_uri": "https://localhost:8080/"
        },
        "id": "y2TbqlQMp7CW",
        "outputId": "3a2ac2cd-13d1-4a70-ccf7-09c70a7fece3"
      },
      "source": [
        "from sklearn.metrics import accuracy_score,f1_score,precision_score,recall_score\n",
        "\n",
        "print('accuracy=%.3f'%accuracy_score(y_true=y_test, y_pred=y_pred))\n",
        "print('precision=%.3f'%precision_score(y_true=y_test, y_pred=y_pred))\n",
        "print('F1-score=%.3f'%f1_score(y_true=y_test, y_pred=y_pred))\n",
        "print('recall=%.3f'%recall_score(y_true=y_test, y_pred=y_pred))\n"
      ],
      "execution_count": null,
      "outputs": [
        {
          "output_type": "stream",
          "name": "stdout",
          "text": [
            "accuracy=0.799\n",
            "precision=0.739\n",
            "F1-score=0.727\n",
            "recall=0.714\n"
          ]
        }
      ]
    },
    {
      "cell_type": "code",
      "metadata": {
        "id": "FqhHo7cYrPhQ"
      },
      "source": [
        "from sklearn.metrics import roc_curve,roc_auc_score\n",
        "\n",
        "fpr,tpr,thres = roc_curve(y_test,y_pred_proba)\n",
        "auc = roc_auc_score(y_test,y_pred_proba)"
      ],
      "execution_count": null,
      "outputs": []
    },
    {
      "cell_type": "code",
      "metadata": {
        "colab": {
          "base_uri": "https://localhost:8080/",
          "height": 350
        },
        "id": "ci9AvgylreFJ",
        "outputId": "59326150-4f95-4e98-b702-86217a6a9572"
      },
      "source": [
        "import matplotlib.pyplot as plt\n",
        "\n",
        "plt.figure(figsize=(5,5))\n",
        "plt.plot(fpr,tpr,color='r')\n",
        "plt.plot([0, 1], [0, 1], 'k:')\n",
        "plt.xlim([0.0,1.0])\n",
        "plt.ylim([0.0,1.0])\n",
        "plt.xlabel('FPR')\n",
        "plt.ylabel('TPR')\n",
        "plt.title('Roc curve (Auc=%.3f)'%auc)\n",
        "plt.show()\n"
      ],
      "execution_count": null,
      "outputs": [
        {
          "output_type": "display_data",
          "data": {
            "image/png": "[encoded data removed]",
            "text/plain": [
              "<Figure size 360x360 with 1 Axes>"
            ]
          },
          "metadata": {
            "needs_background": "light"
          }
        }
      ]
    },
    {
      "cell_type": "markdown",
      "metadata": {
        "id": "BOrOdpGssJOK"
      },
      "source": [
        "## 정리\n",
        "- 분류 모델 성능 평가 지표\n",
        "  - 오차 행렬\n",
        "  - 정확도, 정밀도, 재현율, F1-score\n",
        "  - ROC, AUC\n",
        "- 특성 공학"
      ]
    },
    {
      "cell_type": "markdown",
      "metadata": {
        "id": "xHjUacC5pr5o"
      },
      "source": [
        "## 핵심 클래스와 메서드, 함수\n",
        "- sklearn 라이브러리\n",
        "∘metrics 패키지\n",
        "  - confusion_matrix()\n",
        "  - accuracy_score()\n",
        "  - precision_score()\n",
        "  - recall_score()\n",
        "  - roc_score()\n",
        "  - auc_roc_curve()"
      ]
    }
  ]
}