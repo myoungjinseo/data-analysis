{
 "cells": [
  {
   "cell_type": "markdown",
   "id": "6e6c26ef",
   "metadata": {},
   "source": [
    "특정 영화 팬이 관람할 21개의 영화 평점을 예측하고 실제 평점과 비교해보자"
   ]
  },
  {
   "cell_type": "markdown",
   "id": "ce5b69c1",
   "metadata": {},
   "source": [
    "MovieLens 데이터셋\n",
    "https://grouplens.org/datasets/movielens\n",
    "평점 데이터(ratings.data)\n",
    "- user_id, movie_id, rating, time\n",
    "영화 데이터(movies.data)\n",
    "- movie_id, title, genre\n",
    "유저 데이터(users.data)\n",
    "- user_id, gender, age, occupation, zipcode\n",
    "\n",
    "user_id : 유저 번호\n",
    "movie_id : 영화 번호\n",
    "rating : 정수\n",
    "time : 데이터 등록 시간\n",
    "title : 영화 제목\n",
    "genre : 장르\n",
    "genger : 성별\n",
    "age : 나이\n",
    "occupation : 직업 - 개인정보1\n",
    "zipcode : 주소 코드 - 개인정보2"
   ]
  },
  {
   "cell_type": "markdown",
   "id": "24634be4",
   "metadata": {},
   "source": [
    "MovieLens 데이터셋 읽기 \n",
    "- '::'을 구분자로 하여 열을 구분하여 저장 \n",
    "\n",
    "=> delimiter 를 이용해서 '::'을 구분할 수 있다."
   ]
  },
  {
   "cell_type": "code",
   "execution_count": 1,
   "id": "d40c61ae",
   "metadata": {
    "scrolled": true
   },
   "outputs": [
    {
     "name": "stderr",
     "output_type": "stream",
     "text": [
      "c:\\users\\smjsi\\anaconda3\\envs\\xb00036\\lib\\site-packages\\pandas\\util\\_decorators.py:311: ParserWarning: Falling back to the 'python' engine because the 'c' engine does not support regex separators (separators > 1 char and different from '\\s+' are interpreted as regex); you can avoid this warning by specifying engine='python'.\n",
      "  return func(*args, **kwargs)\n"
     ]
    },
    {
     "data": {
      "text/html": [
       "<div>\n",
       "<style scoped>\n",
       "    .dataframe tbody tr th:only-of-type {\n",
       "        vertical-align: middle;\n",
       "    }\n",
       "\n",
       "    .dataframe tbody tr th {\n",
       "        vertical-align: top;\n",
       "    }\n",
       "\n",
       "    .dataframe thead th {\n",
       "        text-align: right;\n",
       "    }\n",
       "</style>\n",
       "<table border=\"1\" class=\"dataframe\">\n",
       "  <thead>\n",
       "    <tr style=\"text-align: right;\">\n",
       "      <th></th>\n",
       "      <th>movie_id</th>\n",
       "      <th>title</th>\n",
       "      <th>genre</th>\n",
       "    </tr>\n",
       "  </thead>\n",
       "  <tbody>\n",
       "    <tr>\n",
       "      <th>0</th>\n",
       "      <td>1</td>\n",
       "      <td>Toy Story (1995)</td>\n",
       "      <td>Animation|Children's|Comedy</td>\n",
       "    </tr>\n",
       "    <tr>\n",
       "      <th>1</th>\n",
       "      <td>2</td>\n",
       "      <td>Jumanji (1995)</td>\n",
       "      <td>Adventure|Children's|Fantasy</td>\n",
       "    </tr>\n",
       "    <tr>\n",
       "      <th>2</th>\n",
       "      <td>3</td>\n",
       "      <td>Grumpier Old Men (1995)</td>\n",
       "      <td>Comedy|Romance</td>\n",
       "    </tr>\n",
       "    <tr>\n",
       "      <th>3</th>\n",
       "      <td>4</td>\n",
       "      <td>Waiting to Exhale (1995)</td>\n",
       "      <td>Comedy|Drama</td>\n",
       "    </tr>\n",
       "    <tr>\n",
       "      <th>4</th>\n",
       "      <td>5</td>\n",
       "      <td>Father of the Bride Part II (1995)</td>\n",
       "      <td>Comedy</td>\n",
       "    </tr>\n",
       "  </tbody>\n",
       "</table>\n",
       "</div>"
      ],
      "text/plain": [
       "   movie_id                               title                         genre\n",
       "0         1                    Toy Story (1995)   Animation|Children's|Comedy\n",
       "1         2                      Jumanji (1995)  Adventure|Children's|Fantasy\n",
       "2         3             Grumpier Old Men (1995)                Comedy|Romance\n",
       "3         4            Waiting to Exhale (1995)                  Comedy|Drama\n",
       "4         5  Father of the Bride Part II (1995)                        Comedy"
      ]
     },
     "execution_count": 1,
     "metadata": {},
     "output_type": "execute_result"
    }
   ],
   "source": [
    "import pandas as pd\n",
    "\n",
    "movie_df = pd.read_csv('./data/ml-1m/movies8.dat', \n",
    "                       names=['movie_id' , 'title' , 'genre'], delimiter = '::')\n",
    "movie_df.head()"
   ]
  },
  {
   "cell_type": "code",
   "execution_count": 2,
   "id": "b06cbcf0",
   "metadata": {},
   "outputs": [
    {
     "name": "stdout",
     "output_type": "stream",
     "text": [
      "<class 'pandas.core.frame.DataFrame'>\n",
      "RangeIndex: 3883 entries, 0 to 3882\n",
      "Data columns (total 3 columns):\n",
      " #   Column    Non-Null Count  Dtype \n",
      "---  ------    --------------  ----- \n",
      " 0   movie_id  3883 non-null   int64 \n",
      " 1   title     3883 non-null   object\n",
      " 2   genre     3883 non-null   object\n",
      "dtypes: int64(1), object(2)\n",
      "memory usage: 91.1+ KB\n"
     ]
    }
   ],
   "source": [
    "movie_df.info()"
   ]
  },
  {
   "cell_type": "markdown",
   "id": "e11c766e",
   "metadata": {},
   "source": [
    "- unique() 메소드 : 시리즈 객체에서 고유한 것들을 골라준다\n",
    "- len() 메소드 : 개수 "
   ]
  },
  {
   "cell_type": "code",
   "execution_count": 3,
   "id": "51cf4aa8",
   "metadata": {},
   "outputs": [
    {
     "name": "stdout",
     "output_type": "stream",
     "text": [
      "total number of movie in data: 3883\n"
     ]
    }
   ],
   "source": [
    "print('total number of movie in data:',len(movie_df['movie_id'].unique()))"
   ]
  },
  {
   "cell_type": "markdown",
   "id": "098763ad",
   "metadata": {},
   "source": [
    "##  연도별 개봉작 수 출력 하기\n",
    "- 영화 제목과 개봉년도 분리하기\n",
    "+ 개봉작이 가장 많은 Top 10 개봉년도 출력하기"
   ]
  },
  {
   "cell_type": "code",
   "execution_count": 4,
   "id": "b0695d0c",
   "metadata": {},
   "outputs": [],
   "source": [
    "movie_df['year'] = movie_df['title'].apply(lambda x: x[-5:-1]) # -5 ,-4, -3,-2, -1"
   ]
  },
  {
   "cell_type": "code",
   "execution_count": 5,
   "id": "e7ccc8bc",
   "metadata": {},
   "outputs": [],
   "source": [
    "movie_df['title'] = movie_df['title'].apply(lambda x: x[:-7])"
   ]
  },
  {
   "cell_type": "code",
   "execution_count": 7,
   "id": "34ddf588",
   "metadata": {
    "scrolled": true
   },
   "outputs": [
    {
     "data": {
      "text/html": [
       "<div>\n",
       "<style scoped>\n",
       "    .dataframe tbody tr th:only-of-type {\n",
       "        vertical-align: middle;\n",
       "    }\n",
       "\n",
       "    .dataframe tbody tr th {\n",
       "        vertical-align: top;\n",
       "    }\n",
       "\n",
       "    .dataframe thead th {\n",
       "        text-align: right;\n",
       "    }\n",
       "</style>\n",
       "<table border=\"1\" class=\"dataframe\">\n",
       "  <thead>\n",
       "    <tr style=\"text-align: right;\">\n",
       "      <th></th>\n",
       "      <th>movie_id</th>\n",
       "      <th>title</th>\n",
       "      <th>genre</th>\n",
       "      <th>year</th>\n",
       "    </tr>\n",
       "  </thead>\n",
       "  <tbody>\n",
       "    <tr>\n",
       "      <th>0</th>\n",
       "      <td>1</td>\n",
       "      <td>Toy Story</td>\n",
       "      <td>Animation|Children's|Comedy</td>\n",
       "      <td>1995</td>\n",
       "    </tr>\n",
       "    <tr>\n",
       "      <th>1</th>\n",
       "      <td>2</td>\n",
       "      <td>Jumanji</td>\n",
       "      <td>Adventure|Children's|Fantasy</td>\n",
       "      <td>1995</td>\n",
       "    </tr>\n",
       "    <tr>\n",
       "      <th>2</th>\n",
       "      <td>3</td>\n",
       "      <td>Grumpier Old Men</td>\n",
       "      <td>Comedy|Romance</td>\n",
       "      <td>1995</td>\n",
       "    </tr>\n",
       "    <tr>\n",
       "      <th>3</th>\n",
       "      <td>4</td>\n",
       "      <td>Waiting to Exhale</td>\n",
       "      <td>Comedy|Drama</td>\n",
       "      <td>1995</td>\n",
       "    </tr>\n",
       "    <tr>\n",
       "      <th>4</th>\n",
       "      <td>5</td>\n",
       "      <td>Father of the Bride Part II</td>\n",
       "      <td>Comedy</td>\n",
       "      <td>1995</td>\n",
       "    </tr>\n",
       "  </tbody>\n",
       "</table>\n",
       "</div>"
      ],
      "text/plain": [
       "   movie_id                        title                         genre  year\n",
       "0         1                    Toy Story   Animation|Children's|Comedy  1995\n",
       "1         2                      Jumanji  Adventure|Children's|Fantasy  1995\n",
       "2         3             Grumpier Old Men                Comedy|Romance  1995\n",
       "3         4            Waiting to Exhale                  Comedy|Drama  1995\n",
       "4         5  Father of the Bride Part II                        Comedy  1995"
      ]
     },
     "execution_count": 7,
     "metadata": {},
     "output_type": "execute_result"
    }
   ],
   "source": [
    "movie_df.head()"
   ]
  },
  {
   "cell_type": "code",
   "execution_count": 11,
   "id": "dd2f11df",
   "metadata": {},
   "outputs": [
    {
     "name": "stdout",
     "output_type": "stream",
     "text": [
      "Top 1 : 1996 ( 345 )\n",
      "Top 2 : 1995 ( 342 )\n",
      "Top 3 : 1998 ( 337 )\n",
      "Top 4 : 1997 ( 315 )\n",
      "Top 5 : 1999 ( 283 )\n",
      "Top 6 : 1994 ( 257 )\n",
      "Top 7 : 1993 ( 165 )\n",
      "Top 8 : 2000 ( 156 )\n",
      "Top 9 : 1986 ( 104 )\n",
      "Top 10 : 1992 ( 102 )\n"
     ]
    }
   ],
   "source": [
    "year_counts = movie_df['year'].value_counts()[:10]\n",
    "\n",
    "for i ,(year,count) in enumerate(year_counts.iteritems(),1):\n",
    "    print('Top',i,':',year,'(',count,')')"
   ]
  },
  {
   "cell_type": "markdown",
   "id": "d085e606",
   "metadata": {},
   "source": [
    "## 연대별 개봉작 수 시각화하기\n",
    "- 개봉년도 피처에서 연대 정보 생성\n",
    "+ 연대별로 개봉작 수를 합산하여 시각화"
   ]
  },
  {
   "cell_type": "code",
   "execution_count": 16,
   "id": "8e937d92",
   "metadata": {},
   "outputs": [],
   "source": [
    "movie_df['years'] = movie_df['year'].apply(lambda x:x[:3] + '0') # [:-1]+'0'"
   ]
  },
  {
   "cell_type": "code",
   "execution_count": 18,
   "id": "51bd2b86",
   "metadata": {},
   "outputs": [
    {
     "data": {
      "text/html": [
       "<div>\n",
       "<style scoped>\n",
       "    .dataframe tbody tr th:only-of-type {\n",
       "        vertical-align: middle;\n",
       "    }\n",
       "\n",
       "    .dataframe tbody tr th {\n",
       "        vertical-align: top;\n",
       "    }\n",
       "\n",
       "    .dataframe thead th {\n",
       "        text-align: right;\n",
       "    }\n",
       "</style>\n",
       "<table border=\"1\" class=\"dataframe\">\n",
       "  <thead>\n",
       "    <tr style=\"text-align: right;\">\n",
       "      <th></th>\n",
       "      <th>movie_id</th>\n",
       "      <th>title</th>\n",
       "      <th>genre</th>\n",
       "      <th>year</th>\n",
       "      <th>years</th>\n",
       "    </tr>\n",
       "  </thead>\n",
       "  <tbody>\n",
       "    <tr>\n",
       "      <th>0</th>\n",
       "      <td>1</td>\n",
       "      <td>Toy Story</td>\n",
       "      <td>Animation|Children's|Comedy</td>\n",
       "      <td>1995</td>\n",
       "      <td>1990</td>\n",
       "    </tr>\n",
       "    <tr>\n",
       "      <th>1</th>\n",
       "      <td>2</td>\n",
       "      <td>Jumanji</td>\n",
       "      <td>Adventure|Children's|Fantasy</td>\n",
       "      <td>1995</td>\n",
       "      <td>1990</td>\n",
       "    </tr>\n",
       "    <tr>\n",
       "      <th>2</th>\n",
       "      <td>3</td>\n",
       "      <td>Grumpier Old Men</td>\n",
       "      <td>Comedy|Romance</td>\n",
       "      <td>1995</td>\n",
       "      <td>1990</td>\n",
       "    </tr>\n",
       "    <tr>\n",
       "      <th>3</th>\n",
       "      <td>4</td>\n",
       "      <td>Waiting to Exhale</td>\n",
       "      <td>Comedy|Drama</td>\n",
       "      <td>1995</td>\n",
       "      <td>1990</td>\n",
       "    </tr>\n",
       "    <tr>\n",
       "      <th>4</th>\n",
       "      <td>5</td>\n",
       "      <td>Father of the Bride Part II</td>\n",
       "      <td>Comedy</td>\n",
       "      <td>1995</td>\n",
       "      <td>1990</td>\n",
       "    </tr>\n",
       "  </tbody>\n",
       "</table>\n",
       "</div>"
      ],
      "text/plain": [
       "   movie_id                        title                         genre  year  \\\n",
       "0         1                    Toy Story   Animation|Children's|Comedy  1995   \n",
       "1         2                      Jumanji  Adventure|Children's|Fantasy  1995   \n",
       "2         3             Grumpier Old Men                Comedy|Romance  1995   \n",
       "3         4            Waiting to Exhale                  Comedy|Drama  1995   \n",
       "4         5  Father of the Bride Part II                        Comedy  1995   \n",
       "\n",
       "  years  \n",
       "0  1990  \n",
       "1  1990  \n",
       "2  1990  \n",
       "3  1990  \n",
       "4  1990  "
      ]
     },
     "execution_count": 18,
     "metadata": {},
     "output_type": "execute_result"
    }
   ],
   "source": [
    "movie_df.head()"
   ]
  },
  {
   "cell_type": "code",
   "execution_count": 20,
   "id": "6f03a6d5",
   "metadata": {},
   "outputs": [
    {
     "data": {
      "text/html": [
       "<div>\n",
       "<style scoped>\n",
       "    .dataframe tbody tr th:only-of-type {\n",
       "        vertical-align: middle;\n",
       "    }\n",
       "\n",
       "    .dataframe tbody tr th {\n",
       "        vertical-align: top;\n",
       "    }\n",
       "\n",
       "    .dataframe thead th {\n",
       "        text-align: right;\n",
       "    }\n",
       "</style>\n",
       "<table border=\"1\" class=\"dataframe\">\n",
       "  <thead>\n",
       "    <tr style=\"text-align: right;\">\n",
       "      <th></th>\n",
       "      <th>movie_id</th>\n",
       "      <th>title</th>\n",
       "      <th>genre</th>\n",
       "      <th>year</th>\n",
       "      <th>years</th>\n",
       "    </tr>\n",
       "  </thead>\n",
       "  <tbody>\n",
       "    <tr>\n",
       "      <th>3873</th>\n",
       "      <td>3943</td>\n",
       "      <td>Bamboozled</td>\n",
       "      <td>Comedy</td>\n",
       "      <td>2000</td>\n",
       "      <td>2000</td>\n",
       "    </tr>\n",
       "    <tr>\n",
       "      <th>3874</th>\n",
       "      <td>3944</td>\n",
       "      <td>Bootmen</td>\n",
       "      <td>Comedy|Drama</td>\n",
       "      <td>2000</td>\n",
       "      <td>2000</td>\n",
       "    </tr>\n",
       "    <tr>\n",
       "      <th>3875</th>\n",
       "      <td>3945</td>\n",
       "      <td>Digimon: The Movie</td>\n",
       "      <td>Adventure|Animation|Children's</td>\n",
       "      <td>2000</td>\n",
       "      <td>2000</td>\n",
       "    </tr>\n",
       "    <tr>\n",
       "      <th>3876</th>\n",
       "      <td>3946</td>\n",
       "      <td>Get Carter</td>\n",
       "      <td>Action|Drama|Thriller</td>\n",
       "      <td>2000</td>\n",
       "      <td>2000</td>\n",
       "    </tr>\n",
       "    <tr>\n",
       "      <th>3877</th>\n",
       "      <td>3947</td>\n",
       "      <td>Get Carter</td>\n",
       "      <td>Thriller</td>\n",
       "      <td>1971</td>\n",
       "      <td>1970</td>\n",
       "    </tr>\n",
       "    <tr>\n",
       "      <th>3878</th>\n",
       "      <td>3948</td>\n",
       "      <td>Meet the Parents</td>\n",
       "      <td>Comedy</td>\n",
       "      <td>2000</td>\n",
       "      <td>2000</td>\n",
       "    </tr>\n",
       "    <tr>\n",
       "      <th>3879</th>\n",
       "      <td>3949</td>\n",
       "      <td>Requiem for a Dream</td>\n",
       "      <td>Drama</td>\n",
       "      <td>2000</td>\n",
       "      <td>2000</td>\n",
       "    </tr>\n",
       "    <tr>\n",
       "      <th>3880</th>\n",
       "      <td>3950</td>\n",
       "      <td>Tigerland</td>\n",
       "      <td>Drama</td>\n",
       "      <td>2000</td>\n",
       "      <td>2000</td>\n",
       "    </tr>\n",
       "    <tr>\n",
       "      <th>3881</th>\n",
       "      <td>3951</td>\n",
       "      <td>Two Family House</td>\n",
       "      <td>Drama</td>\n",
       "      <td>2000</td>\n",
       "      <td>2000</td>\n",
       "    </tr>\n",
       "    <tr>\n",
       "      <th>3882</th>\n",
       "      <td>3952</td>\n",
       "      <td>Contender, The</td>\n",
       "      <td>Drama|Thriller</td>\n",
       "      <td>2000</td>\n",
       "      <td>2000</td>\n",
       "    </tr>\n",
       "  </tbody>\n",
       "</table>\n",
       "</div>"
      ],
      "text/plain": [
       "      movie_id                title                           genre  year  \\\n",
       "3873      3943           Bamboozled                          Comedy  2000   \n",
       "3874      3944              Bootmen                    Comedy|Drama  2000   \n",
       "3875      3945   Digimon: The Movie  Adventure|Animation|Children's  2000   \n",
       "3876      3946           Get Carter           Action|Drama|Thriller  2000   \n",
       "3877      3947           Get Carter                        Thriller  1971   \n",
       "3878      3948     Meet the Parents                          Comedy  2000   \n",
       "3879      3949  Requiem for a Dream                           Drama  2000   \n",
       "3880      3950            Tigerland                           Drama  2000   \n",
       "3881      3951     Two Family House                           Drama  2000   \n",
       "3882      3952       Contender, The                  Drama|Thriller  2000   \n",
       "\n",
       "     years  \n",
       "3873  2000  \n",
       "3874  2000  \n",
       "3875  2000  \n",
       "3876  2000  \n",
       "3877  1970  \n",
       "3878  2000  \n",
       "3879  2000  \n",
       "3880  2000  \n",
       "3881  2000  \n",
       "3882  2000  "
      ]
     },
     "execution_count": 20,
     "metadata": {},
     "output_type": "execute_result"
    }
   ],
   "source": [
    "movie_df.tail(10)"
   ]
  },
  {
   "cell_type": "code",
   "execution_count": 25,
   "id": "2d039dc9",
   "metadata": {},
   "outputs": [],
   "source": [
    "years_counts_data = movie_df['years'].value_counts().sort_index()"
   ]
  },
  {
   "cell_type": "code",
   "execution_count": 26,
   "id": "3b477fb6",
   "metadata": {},
   "outputs": [
    {
     "name": "stderr",
     "output_type": "stream",
     "text": [
      "c:\\users\\smjsi\\anaconda3\\envs\\xb00036\\lib\\site-packages\\seaborn\\_decorators.py:36: FutureWarning: Pass the following variables as keyword args: x, y. From version 0.12, the only valid positional argument will be `data`, and passing other arguments without an explicit keyword will result in an error or misinterpretation.\n",
      "  warnings.warn(\n"
     ]
    },
    {
     "data": {
      "image/png": "[encoded data removed]",
      "text/plain": [
       "<Figure size 432x288 with 1 Axes>"
      ]
     },
     "metadata": {
      "needs_background": "light"
     },
     "output_type": "display_data"
    }
   ],
   "source": [
    "import seaborn as sns\n",
    "import matplotlib.pyplot as plt\n",
    "\n",
    "sns.barplot(years_counts_data.index,years_counts_data.values)\n",
    "plt.show()"
   ]
  },
  {
   "cell_type": "markdown",
   "id": "91cb5053",
   "metadata": {},
   "source": [
    "## 영화 장르 분석하기\n",
    "- 영화 데이터의 genre 정보를 파싱(parsing)\n",
    "    - spiit() 메소드 : 분할자를 구별해서 리스트 형태로 변환\n",
    "+ 영화 장르 카운터를 dictionary 자료형으로 구현\n",
    "\n",
    "dictionary = (key,value)"
   ]
  },
  {
   "cell_type": "code",
   "execution_count": 27,
   "id": "667c6711",
   "metadata": {},
   "outputs": [
    {
     "data": {
      "text/plain": [
       "['dog', ' cat', ' baby']"
      ]
     },
     "execution_count": 27,
     "metadata": {},
     "output_type": "execute_result"
    }
   ],
   "source": [
    "\"dog, cat, baby\".split(',')"
   ]
  },
  {
   "cell_type": "code",
   "execution_count": 28,
   "id": "7e6b6a6d",
   "metadata": {},
   "outputs": [
    {
     "data": {
      "text/plain": [
       "['Advnture', 'Animation', 'Children']"
      ]
     },
     "execution_count": 28,
     "metadata": {},
     "output_type": "execute_result"
    }
   ],
   "source": [
    "'Advnture|Animation|Children'.split('|')"
   ]
  },
  {
   "cell_type": "code",
   "execution_count": 30,
   "id": "1534a782",
   "metadata": {},
   "outputs": [
    {
     "data": {
      "text/plain": [
       "{'Animation': 105,\n",
       " \"Children's\": 251,\n",
       " 'Comedy': 1200,\n",
       " 'Adventure': 283,\n",
       " 'Fantasy': 68,\n",
       " 'Romance': 471,\n",
       " 'Drama': 1603,\n",
       " 'Action': 503,\n",
       " 'Crime': 211,\n",
       " 'Thriller': 492,\n",
       " 'Horror': 343,\n",
       " 'Sci-Fi': 276,\n",
       " 'Documentary': 127,\n",
       " 'War': 143,\n",
       " 'Musical': 114,\n",
       " 'Mystery': 106,\n",
       " 'Film-Noir': 44,\n",
       " 'Western': 68}"
      ]
     },
     "execution_count": 30,
     "metadata": {},
     "output_type": "execute_result"
    }
   ],
   "source": [
    "genre_counts_dict = {}\n",
    "\n",
    "for index, row in movie_df.iterrows():\n",
    "    \n",
    "    parsed_genre = row['genre'].split('|')\n",
    "    for genre in parsed_genre:\n",
    "        if genre in genre_counts_dict:\n",
    "            genre_counts_dict[genre] +=1\n",
    "        else:\n",
    "            genre_counts_dict[genre] = 1\n",
    "\n",
    "genre_counts_dict"
   ]
  },
  {
   "cell_type": "markdown",
   "id": "c7f9408e",
   "metadata": {},
   "source": [
    "## 영화 장르 분석결과 시각화\n",
    "- dictionary자료형의 키와 값을 list 자료형으로 변환\n",
    "    - keys() 메소드\n",
    "    - values() 메소드"
   ]
  },
  {
   "cell_type": "code",
   "execution_count": 31,
   "id": "48a0227a",
   "metadata": {},
   "outputs": [
    {
     "data": {
      "text/plain": [
       "dict_keys(['Animation', \"Children's\", 'Comedy', 'Adventure', 'Fantasy', 'Romance', 'Drama', 'Action', 'Crime', 'Thriller', 'Horror', 'Sci-Fi', 'Documentary', 'War', 'Musical', 'Mystery', 'Film-Noir', 'Western'])"
      ]
     },
     "execution_count": 31,
     "metadata": {},
     "output_type": "execute_result"
    }
   ],
   "source": [
    "genre_counts_dict.keys()"
   ]
  },
  {
   "cell_type": "code",
   "execution_count": 33,
   "id": "2b8d9171",
   "metadata": {},
   "outputs": [
    {
     "data": {
      "text/plain": [
       "dict_values([105, 251, 1200, 283, 68, 471, 1603, 503, 211, 492, 343, 276, 127, 143, 114, 106, 44, 68])"
      ]
     },
     "execution_count": 33,
     "metadata": {},
     "output_type": "execute_result"
    }
   ],
   "source": [
    "genre_counts_dict.values()"
   ]
  },
  {
   "cell_type": "code",
   "execution_count": 40,
   "id": "99469d44",
   "metadata": {},
   "outputs": [
    {
     "name": "stderr",
     "output_type": "stream",
     "text": [
      "c:\\users\\smjsi\\anaconda3\\envs\\xb00036\\lib\\site-packages\\seaborn\\_decorators.py:36: FutureWarning: Pass the following variables as keyword args: x, y. From version 0.12, the only valid positional argument will be `data`, and passing other arguments without an explicit keyword will result in an error or misinterpretation.\n",
      "  warnings.warn(\n"
     ]
    },
    {
     "data": {
      "text/plain": [
       "[]"
      ]
     },
     "execution_count": 40,
     "metadata": {},
     "output_type": "execute_result"
    },
    {
     "data": {
      "image/png": "[encoded data removed]",
      "text/plain": [
       "<Figure size 1440x1152 with 1 Axes>"
      ]
     },
     "metadata": {
      "needs_background": "light"
     },
     "output_type": "display_data"
    }
   ],
   "source": [
    "plt.rcParams['figure.figsize'] = (20,16)\n",
    "sns.barplot(list(genre_counts_dict.keys()),list(genre_counts_dict.values()))\n",
    "plt.xlabel('genre')\n",
    "plt.ylabel('count')\n",
    "plt.plot()"
   ]
  }
 ],
 "metadata": {
  "kernelspec": {
   "display_name": "Python 3 (ipykernel)",
   "language": "python",
   "name": "python3"
  },
  "language_info": {
   "codemirror_mode": {
    "name": "ipython",
    "version": 3
   },
   "file_extension": ".py",
   "mimetype": "text/x-python",
   "name": "python",
   "nbconvert_exporter": "python",
   "pygments_lexer": "ipython3",
   "version": "3.8.11"
  }
 },
 "nbformat": 4,
 "nbformat_minor": 5
}
